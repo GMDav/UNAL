{
 "cells": [
  {
   "cell_type": "markdown",
   "id": "9c950026",
   "metadata": {},
   "source": [
    "## Importación de Librerías"
   ]
  },
  {
   "cell_type": "code",
   "execution_count": null,
   "id": "1a2138af",
   "metadata": {},
   "outputs": [],
   "source": [
    "import pandas as pd\n",
    "import numpy as np\n",
    "import plotly.express as px\n",
    "import plotly.graph_objects as go"
   ]
  },
  {
   "cell_type": "markdown",
   "id": "889234bd",
   "metadata": {},
   "source": [
    "## Importacion de Funciones necesarias en los análisis"
   ]
  },
  {
   "cell_type": "code",
   "execution_count": null,
   "id": "2d476f95",
   "metadata": {},
   "outputs": [],
   "source": [
    "def arreglo(df, valor1, valor2, valor3, valor4):\n",
    "    dm = df.columns[:9].tolist()\n",
    "    dm.append(valor1)\n",
    "    dm.append(valor2)\n",
    "    dm.append(valor3)\n",
    "    dm.append(valor4)\n",
    "    dm1 = df[dm]\n",
    "    dm1[\"Año\"] = valor1[re.search(\" \", valor1).span()[1]:re.search(\" \", valor1).span()[1]+4]\n",
    "    dm1[\"Semestre\"] = int(valor1[re.search(\"-\", valor1).span()[1]])\n",
    "    dm1[\"Auxiliar\"] = dm1[valor1]\n",
    "    dm1[\"Directivo\"] = dm1[valor2]\n",
    "    dm1[\"Profesional\"] = dm1[valor3]\n",
    "    dm1[\"Servicios\"] = dm1[valor4]\n",
    "    dm1[\"Sumass\"] = dm1[\"Auxiliar\"] + dm1[\"Directivo\"] + dm1[\"Profesional\"] + dm1[\"Servicios\"]\n",
    "    dm1 = dm1[dm1[\"Sumass\"] > 0].reset_index()\n",
    "    dm1 = dm1[dm1.columns[1:].tolist()]\n",
    "    return dm1"
   ]
  },
  {
   "cell_type": "markdown",
   "id": "a4095985",
   "metadata": {},
   "source": [
    "## Importación de los Datos"
   ]
  },
  {
   "cell_type": "code",
   "execution_count": null,
   "id": "b07e92a3",
   "metadata": {},
   "outputs": [],
   "source": [
    "datos_2003_2013 = pd.read_excel(\"articles-391593_recurso.xlsb\", sheet_name = \"Administrativos 2003-2013\", skiprows = 6, engine='pyxlsb')\n",
    "datos_2014 = pd.read_excel(\"articles-391592_recurso.xlsx\", sheet_name = \"Administrativos_2014\", skiprows = 7)\n",
    "datos_2015 = pd.read_excel(\"articles-391591_recurso.xlsx\", sheet_name = \"Administrativos_2015\", skiprows = 7)\n",
    "datos_2016 = pd.read_excel(\"articles-391590_recurso.xlsx\", sheet_name = \"Administrativos_2016\", skiprows = 6)\n",
    "datos_2017 = pd.read_excel(\"articles-391589_recurso.xlsx\", sheet_name = \"Administrativos 2017\", skiprows = 6)\n",
    "datos_2018 = pd.read_excel(\"articles-391588_recurso.xlsx\", sheet_name = \"Sheet 1\", skiprows = 6)\n",
    "datos_2019 = pd.read_excel(\"articles-401903_recurso.xlsx\", sheet_name = \"Hoja1\", skiprows = 6)\n",
    "datos_2020 = pd.read_excel(\"articles-406664_recurso.xlsx\", sheet_name = \"Sheet 1\", skiprows = 6)"
   ]
  },
  {
   "cell_type": "markdown",
   "id": "7479ac3c",
   "metadata": {},
   "source": [
    "## Arreglar y Unir por las Columnas"
   ]
  },
  {
   "cell_type": "code",
   "execution_count": null,
   "id": "28387b54",
   "metadata": {},
   "outputs": [],
   "source": [
    "datos_2014.columns = ['Código de la Institución', 'IES PADRE',\n",
    "       'Institución de Educación Superior (IES)', 'Principal o Seccional',\n",
    "       'ID Sector IES', 'Sector IES', 'ID Caracter IES', 'Caracter IES',\n",
    "       'Código del departamento (IES)', 'Departamento de domicilio de la IES',\n",
    "       'Código del Municipio (IES)', 'Municipio de domicilio de la IES', 'Año',\n",
    "       'Semestre', 'Auxiliar', 'Técnico', 'Profesional', 'Directivo', 'Total']\n",
    "datos_2015.columns = ['Código de la Institución', 'IES PADRE',\n",
    "       'Institución de Educación Superior (IES)', 'Principal o Seccional',\n",
    "       'ID Sector IES', 'Sector IES', 'ID Caracter IES', 'Caracter IES',\n",
    "       'Código del departamento (IES)', 'Departamento de domicilio de la IES',\n",
    "       'Código del Municipio (IES)', 'Municipio de domicilio de la IES', 'Año',\n",
    "       'Semestre', 'Auxiliar', 'Técnico', 'Profesional', 'Directivo', 'Total']\n",
    "datos_2016.columns = ['Código de la Institución', 'IES PADRE',\n",
    "       'Institución de Educación Superior (IES)', 'Principal o Seccional',\n",
    "       'ID Sector IES', 'Sector IES', 'ID Caracter IES', 'Caracter IES',\n",
    "       'Código del departamento (IES)', 'Departamento de domicilio de la IES',\n",
    "       'Código del Municipio (IES)', 'Municipio de domicilio de la IES', 'Año',\n",
    "       'Semestre', 'Auxiliar', 'Técnico', 'Profesional', 'Directivo', 'Total']\n",
    "datos_2017.columns = ['Código de la Institución', 'IES PADRE',\n",
    "       'Institución de Educación Superior (IES)', 'Principal o Seccional',\n",
    "       'ID Sector IES', 'Sector IES', 'ID Caracter IES', 'Caracter IES',\n",
    "       'Código del departamento (IES)', 'Departamento de domicilio de la IES',\n",
    "       'Código del Municipio (IES)', 'Municipio de domicilio de la IES', 'Año',\n",
    "       'Semestre', 'Auxiliar', 'Técnico', 'Profesional', 'Directivo', 'Total']\n",
    "datos_2018.columns = ['Código de la Institución', 'IES PADRE',\n",
    "       'Institución de Educación Superior (IES)', 'Principal o Seccional',\n",
    "       'ID Sector IES', 'Sector IES', 'ID Caracter IES', 'Caracter IES',\n",
    "       'Código del departamento (IES)', 'Departamento de domicilio de la IES',\n",
    "       'Código del Municipio (IES)', 'Municipio de domicilio de la IES', 'Año',\n",
    "       'Semestre', 'Auxiliar', 'Técnico', 'Profesional', 'Directivo', 'Total']\n",
    "datos_2019.columns = ['Código de la Institución', 'IES PADRE',\n",
    "       'Institución de Educación Superior (IES)', 'Principal o Seccional',\n",
    "       'ID Sector IES', 'Sector IES', 'ID Caracter IES', 'Caracter IES',\n",
    "       'Código del departamento (IES)', 'Departamento de domicilio de la IES',\n",
    "       'Código del Municipio (IES)', 'Municipio de domicilio de la IES', 'Año',\n",
    "       'Semestre', 'Auxiliar', 'Técnico', 'Profesional', 'Directivo', 'Total']\n",
    "datos_2020.columns = ['Código de la Institución', 'IES PADRE',\n",
    "       'Institución de Educación Superior (IES)', 'Principal o Seccional',\n",
    "       'ID Sector IES', 'Sector IES', 'ID Caracter IES', 'Caracter IES',\n",
    "       'Código del departamento (IES)', 'Departamento de domicilio de la IES',\n",
    "       'Código del Municipio (IES)', 'Municipio de domicilio de la IES', 'Año',\n",
    "       'Semestre', 'Auxiliar', 'Técnico', 'Profesional', 'Directivo', 'Total']"
   ]
  },
  {
   "cell_type": "code",
   "execution_count": null,
   "id": "bb57d3bf",
   "metadata": {},
   "outputs": [],
   "source": [
    "for i in range(1,110): #85\n",
    "    if i == 1:\n",
    "        #Crear el dataframe\n",
    "        Datos_2003_2013 = arreglo(datos_2003_2013, datos_2003_2013.columns[8 + i], datos_2003_2013.columns[9 + i], datos_2003_2013.columns[10 + i], datos_2003_2013.columns[11 + i])\n",
    "    elif (i - 1) % 5 == 0:\n",
    "        #Concatenar el dataframe con anterior\n",
    "        Nuevo = arreglo(datos_2003_2013, datos_2003_2013.columns[8 + i], datos_2003_2013.columns[9 + i], datos_2003_2013.columns[10 + i], datos_2003_2013.columns[11 + i])\n",
    "        Datos_2003_2013 = pd.concat([Datos_2003_2013, Nuevo], axis = 0, ignore_index = True, join = \"inner\")\n",
    "        #print(datos_2000_2013.columns[20 + i])\n",
    "    else:\n",
    "        pass\n",
    "Datos_2003_2013"
   ]
  },
  {
   "cell_type": "code",
   "execution_count": null,
   "id": "ee2785d6",
   "metadata": {},
   "outputs": [],
   "source": [
    "datos_2003_2021 = pd.concat([Datos_2003_2013, datos_2014, datos_2015, datos_2016, datos_2017, datos_2018, datos_2019, datos_2020, datos_2021], axis = 0, ignore_index = True, join = \"inner\")"
   ]
  },
  {
   "cell_type": "code",
   "execution_count": null,
   "id": "1476920b",
   "metadata": {},
   "outputs": [],
   "source": [
    "datos_2003_2021[\"Institución de Educación Superior (IES)\"] = datos_2003_2021[\"Institución de Educación Superior (IES)\"].str.upper()\n",
    "datos_2003_2021[\"Principal o Seccional\"] = datos_2003_2021[\"Principal o Seccional\"].str.capitalize()\n",
    "datos_2003_2021[\"Sector IES\"] = datos_2003_2021[\"Sector IES\"].str.capitalize()\n",
    "datos_2003_2021[\"Departamento de domicilio de la IES\"] = datos_2003_2021[\"Departamento de domicilio de la IES\"].str.title()\n",
    "datos_2003_2021[\"Municipio de domicilio de la IES\"] = datos_2003_2021[\"Municipio de domicilio de la IES\"].str.title()"
   ]
  },
  {
   "cell_type": "markdown",
   "id": "a3c7d81c",
   "metadata": {},
   "source": [
    "### Graficos"
   ]
  },
  {
   "cell_type": "code",
   "execution_count": null,
   "id": "2b1a715b",
   "metadata": {},
   "outputs": [],
   "source": [
    "#Agrupar para gráficar\n",
    "\n",
    "datos_2003_2021.groupby()"
   ]
  },
  {
   "cell_type": "code",
   "execution_count": null,
   "id": "2b70fba4",
   "metadata": {},
   "outputs": [],
   "source": [
    "fig = px.bar(datos_2003_2021, x = \"\", y = \"\")\n",
    "fig.show()"
   ]
  },
  {
   "cell_type": "code",
   "execution_count": null,
   "id": "bf7d0d50",
   "metadata": {},
   "outputs": [],
   "source": [
    "fig.write_image(\"figura_1.png\")"
   ]
  },
  {
   "cell_type": "code",
   "execution_count": null,
   "id": "3f40b25b",
   "metadata": {},
   "outputs": [],
   "source": []
  },
  {
   "cell_type": "code",
   "execution_count": null,
   "id": "8bf08053",
   "metadata": {},
   "outputs": [],
   "source": []
  },
  {
   "cell_type": "code",
   "execution_count": null,
   "id": "9a77e511",
   "metadata": {},
   "outputs": [],
   "source": []
  },
  {
   "cell_type": "code",
   "execution_count": null,
   "id": "85bc3bdc",
   "metadata": {},
   "outputs": [],
   "source": []
  }
 ],
 "metadata": {
  "kernelspec": {
   "display_name": "Python 3 (ipykernel)",
   "language": "python",
   "name": "python3"
  },
  "language_info": {
   "codemirror_mode": {
    "name": "ipython",
    "version": 3
   },
   "file_extension": ".py",
   "mimetype": "text/x-python",
   "name": "python",
   "nbconvert_exporter": "python",
   "pygments_lexer": "ipython3",
   "version": "3.9.7"
  }
 },
 "nbformat": 4,
 "nbformat_minor": 5
}
