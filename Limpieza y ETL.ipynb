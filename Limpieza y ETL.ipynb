{
 "cells": [
  {
   "cell_type": "markdown",
   "id": "8cd9567d",
   "metadata": {},
   "source": [
    "## Importación de Librerías"
   ]
  },
  {
   "cell_type": "code",
   "execution_count": null,
   "id": "6552bb4d",
   "metadata": {},
   "outputs": [],
   "source": [
    "import numpy as np\n",
    "import pandas as pd\n",
    "import re\n",
    "import math"
   ]
  },
  {
   "cell_type": "markdown",
   "id": "cdef09de",
   "metadata": {},
   "source": [
    "## Importacion de Funciones necesarias en los análisis"
   ]
  },
  {
   "cell_type": "code",
   "execution_count": null,
   "id": "5af983cf",
   "metadata": {},
   "outputs": [],
   "source": [
    "def arreglo(df, valor1):\n",
    "    \"\"\"Función para el arreglo de los valores de Estudiantes inscritos entre 2000 y 2013\"\"\"\n",
    "    dfr = df.columns[:21].tolist()\n",
    "    dfr.append(valor1)\n",
    "    dfr1 = df[dfr]\n",
    "    dfr1[\"Sexo\"] = valor1[:re.search(\" \", valor1).span()[0]]\n",
    "    dfr1[\"Año\"] = valor1[re.search(\" \", valor1).span()[1]:re.search(\" \", valor1).span()[1]+4]\n",
    "    dfr1[\"Semestre\"] = int(valor1[re.search(\"-\", valor1).span()[1]])\n",
    "    dfr1[\"Inscritos\"] = dfr1[valor1]\n",
    "    dfr1 = dfr1[dfr1[\"Inscritos\"] > 0].reset_index()\n",
    "    dfr1 = dfr1[dfr1.columns[1:].tolist()]\n",
    "    return dfr1\n",
    "\n",
    "def similitud(a1, b1):\n",
    "    \"\"\"Funcion para cuantificar la similitud entre strings\"\"\"\n",
    "    c = 0\n",
    "    for i in range(0, min(len(a1),len(b1))):\n",
    "        if a1[i] == b1[i]:\n",
    "            c = c + 1\n",
    "        else:\n",
    "            pass\n",
    "    return c / min(len(a1),len(b1))\n",
    "\n",
    "def quitar_acentos(texto_m_sp, i):\n",
    "    \"\"\"Funcion para quitar los acentos a los strings, para esta situación i siempre es igual a 0\"\"\"\n",
    "    lista = list(texto_m_sp)\n",
    "    for letra in lista:\n",
    "        if (letra == \"á\"):\n",
    "            lista[i] = \"a\"\n",
    "\n",
    "        elif (letra == \"é\"):\n",
    "            lista[i] = \"e\"\n",
    "\n",
    "        elif (letra == \"í\"):\n",
    "            lista[i] = \"i\"\n",
    "\n",
    "        elif (letra == \"ó\"):\n",
    "            lista[i] = \"o\"\n",
    "\n",
    "        elif (letra == \"ú\"):\n",
    "            lista[i] = \"u\"\n",
    "        i += 1\n",
    "    texto_m_sp = \"\".join(lista) #Aquí asignamos la lista convertida a string a la variable que contiene el texto con las vocales acentuadas\n",
    "    return texto_m_sp"
   ]
  },
  {
   "cell_type": "markdown",
   "id": "5e80b829",
   "metadata": {},
   "source": [
    "## Importación de los Datos"
   ]
  },
  {
   "cell_type": "code",
   "execution_count": null,
   "id": "1c8f7017",
   "metadata": {},
   "outputs": [],
   "source": [
    "datos_2000_2013 = pd.read_excel(\"articles-391562_recurso.xlsb\", sheet_name = \"Inscritos 2000-2013\", skiprows = 6, engine='pyxlsb')\n",
    "datos_2014 = pd.read_excel(\"articles-391561_recurso.xlsx\", sheet_name = \"Inscritos_2014\", skiprows = 6)\n",
    "datos_2015 = pd.read_excel(\"articles-391560_recurso.xlsx\", sheet_name = \"Inscritos_2015\", skiprows = 6)\n",
    "datos_2016 = pd.read_excel(\"articles-391559_recurso.xlsx\", sheet_name = \"Inscritos_2016\", skiprows = 6)\n",
    "datos_2017 = pd.read_excel(\"articles-391558_recurso.xlsx\", sheet_name = \"Hoja1\", skiprows = 6)\n",
    "datos_2018 = pd.read_excel(\"articles-391557_recurso.xlsx\", sheet_name = \"Sheet 1\", skiprows = 8)\n",
    "datos_2019 = pd.read_excel(\"articles-401907_recurso.xlsx\", sheet_name = \"Hoja1\", skiprows = 9)\n",
    "datos_2020 = pd.read_excel(\"articles-406670_recurso.xlsx\", sheet_name = \"Sheet 1\", skiprows = 9)\n",
    "datos_2021 = pd.read_excel(\"articles-411251_recurso.xlsx\", sheet_name = \"Sheet 1\", skiprows = 10)"
   ]
  },
  {
   "cell_type": "markdown",
   "id": "9a439a30",
   "metadata": {},
   "source": [
    "## Arreglar y Unir por las Columnas"
   ]
  },
  {
   "cell_type": "code",
   "execution_count": null,
   "id": "47f4d6c7",
   "metadata": {},
   "outputs": [],
   "source": [
    "datos_2000_2013.columns = ['Código de la Institución', 'IES PADRE',\n",
    "       'Institución de Educación Superior (IES)', 'Principal o Seccional',\n",
    "       'Sector IES', 'Carácter IES', 'Código del departamento (IES)',\n",
    "       'Departamento de domicilio de la IES',\n",
    "       'Código del Municipio (IES)', 'Municipio de domicilio de la IES',\n",
    "       'Código SNIES del programa', 'Programa Académico',\n",
    "       'Nivel de Formación', 'Nivel Académico', 'Metodología del programa',\n",
    "       'Área de Conocimiento', 'Núcleo Básico del Conocimiento (NBC)',\n",
    "       'Código del Departamento (Programa)',\n",
    "       'Departamento de oferta del programa',\n",
    "       'Código del Municipio (Programa)',\n",
    "       'Municipio de oferta del programa', 'Hombre 2000-1', 'Mujer 2000-1',\n",
    "       'Total 2000-1', 'Hombre 2000-2', 'Mujer 2000-2', 'Total 2000-2',\n",
    "       'Hombre 2001-1', 'Mujer 2001-1', 'Total 2001-1', 'Hombre 2001-2',\n",
    "       'Mujer 2001-2', 'Total 2001-2', 'Hombre 2002-1', 'Mujer 2002-1',\n",
    "       'Total 2002-1', 'Hombre 2002-2', 'Mujer 2002-2', 'Total 2002-2',\n",
    "       'Hombre 2003-1', 'Mujer 2003-1', 'Total 2003-1', 'Hombre 2003-2',\n",
    "       'Mujer 2003-2', 'Total 2003-2', 'Hombre 2004-1', 'Mujer 2004-1',\n",
    "       'Total 2004-1', 'Hombre 2004-2', 'Mujer 2004-2','Total 2004-2', \n",
    "       'Hombre 2005-1', 'Mujer 2005-1', 'Total 2005-1',\n",
    "       'Hombre 2005-2', 'Mujer 2005-2', 'Total 2005-2', 'Hombre 2006-1',\n",
    "       'Mujer 2006-1', 'Total 2006-1', 'Hombre 2006-2', 'Mujer 2006-2',\n",
    "       'Total 2006-2', 'Hombre 2007-1', 'Mujer 2007-1', 'Total 2007-1',\n",
    "       'Hombre 2007-2', 'Mujer 2007-2', 'Total 2007-2', 'Hombre 2008-1',\n",
    "       'Mujer 2008-1', 'Total 2008-1', 'Hombre 2008-2', 'Mujer 2008-2',\n",
    "       'Total 2008-2', 'Hombre 2009-1', 'Mujer 2009-1', 'Total 2009-1',\n",
    "       'Hombre 2009-2', 'Mujer 2009-2', 'Total 2009-2', 'Hombre 2010-1',\n",
    "       'Mujer 2010-1', 'Total 2010-1', 'Hombre 2010-2', 'Mujer 2010-2',\n",
    "       'Total 2010-2', 'Hombre 2011-1', 'Mujer 2011-1', 'Total 2011-1',\n",
    "       'Hombre 2011-2', 'Mujer 2011-2', 'Total 2011-2', 'Hombre 2012-1',\n",
    "       'Mujer 2012-1', 'Total 2012-1', 'Hombre 2012-2', 'Mujer 2012-2',\n",
    "       'Total 2012-2', 'Hombre 2013-1', 'Mujer 2013-1', 'Total 2013-1',\n",
    "       'Hombre 2013-2', 'Mujer 2013-2', 'Total 2013-2']"
   ]
  },
  {
   "cell_type": "code",
   "execution_count": null,
   "id": "ed614872",
   "metadata": {},
   "outputs": [],
   "source": [
    "datos_2014.columns = ['Código de la Institución', 'IES PADRE',\n",
    "       'Institución de Educación Superior (IES)', 'Principal o Seccional',\n",
    "       'Id Sector IES', 'Sector IES', 'Id Caracter', 'Caracter IES',\n",
    "       'Código del departamento (IES)',\n",
    "       'Departamento de domicilio de la IES',\n",
    "       'Código del Municipio (IES)', 'Municipio de domicilio de la IES',\n",
    "       'Código SNIES del programa', 'Programa Académico', 'Id Nivel ACADÉMICO',\n",
    "       'Nivel Académico', 'Id Nivel de Formación', 'Nivel de Formación',\n",
    "       'Id Metodología', 'Metodología', 'Id Área', 'Área de Conocimiento',\n",
    "       'Id Núcleo', 'Núcleo Básico del Conocimiento (NBC)',\n",
    "       'Código del Departamento (Programa)',\n",
    "       'Departamento de oferta del programa',\n",
    "       'Código del Municipio (Programa)',\n",
    "       'Municipio de oferta del programa', 'Id Género', 'Género', 'Año',\n",
    "       'Semestre', 'Inscritos']\n",
    "\n",
    "datos_2015.columns = ['Código de la Institución', 'IES PADRE',\n",
    "       'Institución de Educación Superior (IES)', 'Principal o Seccional',\n",
    "       'Id Sector IES', 'Sector IES', 'Id Caracter', 'Caracter IES',\n",
    "       'Código del departamento (IES)',\n",
    "       'Departamento de domicilio de la IES',\n",
    "       'Código del Municipio (IES)', 'Municipio de domicilio de la IES',\n",
    "       'Código SNIES del programa', 'Programa Académico', 'Id Nivel ACADÉMICO',\n",
    "       'Nivel Académico', 'Id Nivel de Formación', 'Nivel de Formación',\n",
    "       'Id Metodología', 'Metodología', 'Id Área', 'Área de Conocimiento',\n",
    "       'Id Núcleo', 'Núcleo Básico del Conocimiento (NBC)',\n",
    "       'Código del Departamento (Programa)',\n",
    "       'Departamento de oferta del programa',\n",
    "       'Código del Municipio (Programa)',\n",
    "       'Municipio de oferta del programa', 'Id Género', 'Género', 'Año',\n",
    "       'Semestre', 'Inscritos']\n",
    "\n",
    "datos_2016.columns = ['Código de la Institución', 'IES PADRE',\n",
    "       'Institución de Educación Superior (IES)', 'Principal o Seccional',\n",
    "       'ID Sector IES', 'Sector IES', 'ID Caracter', 'Caracter IES',\n",
    "       'Código del departamento (IES)',\n",
    "       'Departamento de domicilio de la IES',\n",
    "       'Código del Municipio (IES)', 'Municipio de domicilio de la IES',\n",
    "       'Código SNIES del programa', 'Programa Académico',\n",
    "       'ID Nivel Académico', 'Nivel Académico', 'ID Nivel de Formación',\n",
    "       'Nivel de Formación', 'ID Metodología', 'Metodología', 'ID Área',\n",
    "       'Área de Conocimiento', 'Id Núcleo',\n",
    "       'Núcleo Básico del Conocimiento (NBC)',\n",
    "       'Código del Departamento (Programa)',\n",
    "       'Departamento de oferta del programa',\n",
    "       'Código del Municipio (Programa)',\n",
    "       'Municipio de oferta del programa', 'ID Sexo', 'Sexo', 'Año',\n",
    "       'Semestre', 'Inscritos']\n",
    "\n",
    "datos_2017.columns = ['Código de la Institución', 'IES PADRE',\n",
    "       'Institución de Educación Superior (IES)', 'Principal o Seccional',\n",
    "       'ID Sector IES', 'Sector IES', 'ID Caracter', 'Caracter IES',\n",
    "       'Código del departamento (IES)',\n",
    "       'Departamento de domicilio de la IES',\n",
    "       'Código del Municipio (IES)', 'Municipio de domicilio de la IES',\n",
    "       'Código SNIES del programa', 'Programa Académico',\n",
    "       'ID Nivel Académico', 'Nivel Académico', 'ID Nivel de Formación',\n",
    "       'Nivel de Formación', 'ID Metodología', 'Metodología', 'ID Área',\n",
    "       'Área de Conocimiento', 'Id Núcleo',\n",
    "       'Núcleo Básico del Conocimiento (NBC)',\n",
    "       'Código del Departamento (Programa)',\n",
    "       'Departamento de oferta del programa',\n",
    "       'Código del Municipio (Programa)',\n",
    "       'Municipio de oferta del programa', 'ID Sexo', 'Sexo', 'Año',\n",
    "       'Semestre', 'Inscritos']\n",
    "\n",
    "datos_2018.columns = ['Código de la Institución', 'IES PADRE',\n",
    "       'Institución de Educación Superior (IES)', 'Principal o Seccional',\n",
    "       'ID Sector IES', 'Sector IES', 'ID Caracter', 'Caracter IES',\n",
    "       'Código del departamento (IES)',\n",
    "       'Departamento de domicilio de la IES',\n",
    "       'Código del Municipio (IES)', 'Municipio de domicilio de la IES',\n",
    "       'Código SNIES del programa', 'Programa Académico',\n",
    "       'ID Nivel Académico', 'Nivel Académico', 'ID Nivel de Formación',\n",
    "       'Nivel de Formación', 'ID Metodología', 'Metodología', 'ID Área',\n",
    "       'Área de Conocimiento', 'Id Núcleo',\n",
    "       'Núcleo Básico del Conocimiento (NBC)',\n",
    "       'Código del Departamento (Programa)',\n",
    "       'Departamento de oferta del programa',\n",
    "       'Código del Municipio (Programa)',\n",
    "       'Municipio de oferta del programa', 'ID Sexo', 'Sexo', 'Año',\n",
    "       'Semestre', 'Inscritos']\n",
    "\n",
    "datos_2019.columns = ['CÓDIGO DE LA INSTITUCIÓN', 'IES PADRE',\n",
    "       'INSTITUCIÓN DE EDUCACIÓN SUPERIOR (IES)', 'PRINCIPAL O SECCIONAL',\n",
    "       'ID SECTOR IES', 'SECTOR IES', 'ID CARACTER', 'CARACTER IES',\n",
    "       'CÓDIGO DEL DEPARTAMENTO (IES)', 'DEPARTAMENTO DE DOMICILIO DE LA IES',\n",
    "       'CÓDIGO DEL MUNICIPIO (IES)', 'MUNICIPIO DE DOMICILIO DE LA IES',\n",
    "       'CÓDIGO SNIES DEL PROGRAMA', 'PROGRAMA ACADÉMICO', 'ID NIVEL ACADÉMICO',\n",
    "       'NIVEL ACADÉMICO', 'ID NIVEL DE FORMACIÓN', 'NIVEL DE FORMACIÓN',\n",
    "       'ID METODOLOGÍA', 'METODOLOGÍA', 'ID ÁREA', 'ÁREA DE CONOCIMIENTO',\n",
    "       'ID NÚCLEO', 'NÚCLEO BÁSICO DEL CONOCIMIENTO (NBC)',\n",
    "       'ID CINE CAMPO AMPLIO', 'DESC CINE CAMPO AMPLIO',\n",
    "       'ID CINE CAMPO ESPECIFICO', 'DESC CINE CAMPO ESPECIFICO',\n",
    "       'ID CINE CODIGO DETALLADO', 'DESC CINE CODIGO DETALLADO',\n",
    "       'CÓDIGO DEL DEPARTAMENTO (PROGRAMA)',\n",
    "       'DEPARTAMENTO DE OFERTA DEL PROGRAMA',\n",
    "       'CÓDIGO DEL MUNICIPIO (PROGRAMA)', 'MUNICIPIO DE OFERTA DEL PROGRAMA',\n",
    "       'ID SEXO', 'SEXO', 'AÑO', 'SEMESTRE', 'INSCRITOS']\n",
    "\n",
    "datos_2020.columns = ['CÓDIGO DE LA INSTITUCIÓN', 'IES PADRE',\n",
    "       'INSTITUCIÓN DE EDUCACIÓN SUPERIOR (IES)', 'PRINCIPAL O SECCIONAL',\n",
    "       'ID SECTOR IES', 'SECTOR IES', 'ID CARACTER', 'CARACTER IES',\n",
    "       'CÓDIGO DEL DEPARTAMENTO (IES)', 'DEPARTAMENTO DE DOMICILIO DE LA IES',\n",
    "       'CÓDIGO DEL MUNICIPIO (IES)', 'MUNICIPIO DE DOMICILIO DE LA IES',\n",
    "       'CÓDIGO SNIES DEL PROGRAMA', 'PROGRAMA ACADÉMICO', 'ID NIVEL ACADÉMICO',\n",
    "       'NIVEL ACADÉMICO', 'ID NIVEL DE FORMACIÓN', 'NIVEL DE FORMACIÓN',\n",
    "       'ID METODOLOGÍA', 'METODOLOGÍA', 'ID ÁREA', 'ÁREA DE CONOCIMIENTO',\n",
    "       'ID NÚCLEO', 'NÚCLEO BÁSICO DEL CONOCIMIENTO (NBC)',\n",
    "       'ID CINE CAMPO AMPLIO', 'DESC CINE CAMPO AMPLIO',\n",
    "       'ID CINE CAMPO ESPECIFICO', 'DESC CINE CAMPO ESPECIFICO',\n",
    "       'ID CINE CODIGO DETALLADO', 'DESC CINE CODIGO DETALLADO',\n",
    "       'CÓDIGO DEL DEPARTAMENTO (PROGRAMA)',\n",
    "       'DEPARTAMENTO DE OFERTA DEL PROGRAMA',\n",
    "       'CÓDIGO DEL MUNICIPIO (PROGRAMA)', 'MUNICIPIO DE OFERTA DEL PROGRAMA',\n",
    "       'ID SEXO', 'SEXO', 'AÑO', 'SEMESTRE', 'INSCRITOS']\n",
    "\n",
    "datos_2021.columns = ['CÓDIGO DE LA INSTITUCIÓN', 'IES PADRE',\n",
    "       'INSTITUCIÓN DE EDUCACIÓN SUPERIOR (IES)', 'PRINCIPAL O SECCIONAL',\n",
    "       'ID SECTOR IES', 'SECTOR IES', 'ID CARACTER', 'CARACTER IES',\n",
    "       'CÓDIGO DEL DEPARTAMENTO (IES)', 'DEPARTAMENTO DE DOMICILIO DE LA IES',\n",
    "       'CÓDIGO DEL MUNICIPIO (IES)', 'MUNICIPIO DE DOMICILIO DE LA IES',\n",
    "       'CÓDIGO SNIES DEL PROGRAMA', 'PROGRAMA ACADÉMICO', 'ID NIVEL ACADÉMICO',\n",
    "       'NIVEL ACADÉMICO', 'ID NIVEL DE FORMACIÓN', 'NIVEL DE FORMACIÓN',\n",
    "       'ID METODOLOGÍA', 'METODOLOGÍA', 'ID ÁREA', 'ÁREA DE CONOCIMIENTO',\n",
    "       'ID NÚCLEO', 'NÚCLEO BÁSICO DEL CONOCIMIENTO (NBC)',\n",
    "       'ID CINE CAMPO AMPLIO', 'DESC CINE CAMPO AMPLIO',\n",
    "       'ID CINE CAMPO ESPECIFICO', 'DESC CINE CAMPO ESPECIFICO',\n",
    "       'ID CINE CODIGO DETALLADO', 'DESC CINE CODIGO DETALLADO',\n",
    "       'CÓDIGO DEL DEPARTAMENTO (PROGRAMA)',\n",
    "       'DEPARTAMENTO DE OFERTA DEL PROGRAMA',\n",
    "       'CÓDIGO DEL MUNICIPIO (PROGRAMA)', 'MUNICIPIO DE OFERTA DEL PROGRAMA',\n",
    "       'ID SEXO', 'SEXO', 'AÑO', 'SEMESTRE', 'INSCRITOS']"
   ]
  },
  {
   "cell_type": "code",
   "execution_count": null,
   "id": "9d6732f5",
   "metadata": {},
   "outputs": [],
   "source": [
    "#Con este código verifico cuales son las columnas que no se encuentran en el otro Dataframe\n",
    "print(set(datos_2021.columns.str.upper().tolist()).difference(set(datos_2020.columns.str.upper().tolist())))\n",
    "print(set(datos_2020.columns.str.upper().tolist()).difference(set(datos_2021.columns.str.upper().tolist())))"
   ]
  },
  {
   "cell_type": "code",
   "execution_count": null,
   "id": "e42dac73",
   "metadata": {},
   "outputs": [],
   "source": [
    "datos_2020_2021 = pd.concat([datos_2020, datos_2021], axis = 0, ignore_index = True, join = \"inner\")"
   ]
  },
  {
   "cell_type": "code",
   "execution_count": null,
   "id": "a2813583",
   "metadata": {},
   "outputs": [],
   "source": [
    "print(set(datos_2019.columns.str.upper().tolist()).difference(set(datos_2020_2021.columns.str.upper().tolist())))\n",
    "print(set(datos_2020_2021.columns.str.upper().tolist()).difference(set(datos_2019.columns.str.upper().tolist())))"
   ]
  },
  {
   "cell_type": "code",
   "execution_count": null,
   "id": "4671205f",
   "metadata": {},
   "outputs": [],
   "source": [
    "datos_2019_2021 = pd.concat([datos_2019, datos_2020_2021], axis = 0, ignore_index = True, join = \"inner\")"
   ]
  },
  {
   "cell_type": "code",
   "execution_count": null,
   "id": "a4ce9c9e",
   "metadata": {},
   "outputs": [],
   "source": [
    "datos_2018.columns = [x.upper() for x in datos_2018.columns.tolist()]"
   ]
  },
  {
   "cell_type": "code",
   "execution_count": null,
   "id": "a5b5ba26",
   "metadata": {},
   "outputs": [],
   "source": [
    "print(set(datos_2018.columns.str.upper().tolist()).difference(set(datos_2019_2021.columns.str.upper().tolist())))\n",
    "print(set(datos_2019_2021.columns.str.upper().tolist()).difference(set(datos_2018.columns.str.upper().tolist())))"
   ]
  },
  {
   "cell_type": "code",
   "execution_count": null,
   "id": "a3782624",
   "metadata": {},
   "outputs": [],
   "source": [
    "datos_2018[\"DESC CINE CAMPO AMPLIO\"] = \"NO APLICA\"\n",
    "datos_2018[\"DESC CINE CAMPO ESPECIFICO\"] = \"NO APLICA\"\n",
    "datos_2018[\"DESC CINE CODIGO DETALLADO\"] = \"NO APLICA\"\n",
    "datos_2018[\"ID CINE CAMPO AMPLIO\"] = 0\n",
    "datos_2018[\"ID CINE CAMPO ESPECIFICO\"] = 0\n",
    "datos_2018[\"ID CINE CODIGO DETALLADO\"] = 0"
   ]
  },
  {
   "cell_type": "code",
   "execution_count": null,
   "id": "e786d90d",
   "metadata": {},
   "outputs": [],
   "source": [
    "datos_2018_2021 = pd.concat([datos_2018, datos_2019_2021], axis = 0, ignore_index = True, join = \"inner\")"
   ]
  },
  {
   "cell_type": "code",
   "execution_count": null,
   "id": "6e301008",
   "metadata": {},
   "outputs": [],
   "source": [
    "datos_2018_2021 = datos_2018_2021[['CÓDIGO DE LA INSTITUCIÓN', 'IES PADRE',\n",
    "       'INSTITUCIÓN DE EDUCACIÓN SUPERIOR (IES)', 'PRINCIPAL O SECCIONAL',\n",
    "       'ID SECTOR IES', 'SECTOR IES', 'ID CARACTER', 'CARACTER IES',\n",
    "       'CÓDIGO DEL DEPARTAMENTO (IES)', 'DEPARTAMENTO DE DOMICILIO DE LA IES',\n",
    "       'CÓDIGO DEL MUNICIPIO (IES)', 'MUNICIPIO DE DOMICILIO DE LA IES',\n",
    "       'CÓDIGO SNIES DEL PROGRAMA', 'PROGRAMA ACADÉMICO', 'ID NIVEL ACADÉMICO',\n",
    "       'NIVEL ACADÉMICO', 'ID NIVEL DE FORMACIÓN', 'NIVEL DE FORMACIÓN',\n",
    "       'ID METODOLOGÍA', 'METODOLOGÍA', 'ID ÁREA', 'ÁREA DE CONOCIMIENTO',\n",
    "       'ID NÚCLEO', 'NÚCLEO BÁSICO DEL CONOCIMIENTO (NBC)',\n",
    "       'ID CINE CAMPO AMPLIO', 'DESC CINE CAMPO AMPLIO',\n",
    "       'ID CINE CAMPO ESPECIFICO', 'DESC CINE CAMPO ESPECIFICO',\n",
    "       'ID CINE CODIGO DETALLADO', 'DESC CINE CODIGO DETALLADO',\n",
    "       'CÓDIGO DEL DEPARTAMENTO (PROGRAMA)',\n",
    "       'DEPARTAMENTO DE OFERTA DEL PROGRAMA',\n",
    "       'CÓDIGO DEL MUNICIPIO (PROGRAMA)', 'MUNICIPIO DE OFERTA DEL PROGRAMA',\n",
    "       'ID SEXO', 'SEXO', 'AÑO', 'SEMESTRE', 'INSCRITOS']]"
   ]
  },
  {
   "cell_type": "code",
   "execution_count": null,
   "id": "18f6cd28",
   "metadata": {},
   "outputs": [],
   "source": [
    "datos_2017.columns = [x.upper() for x in datos_2017.columns.tolist()]"
   ]
  },
  {
   "cell_type": "code",
   "execution_count": null,
   "id": "03347804",
   "metadata": {},
   "outputs": [],
   "source": [
    "print(set(datos_2017.columns.str.upper().tolist()).difference(set(datos_2018_2021.columns.str.upper().tolist())))\n",
    "print(set(datos_2018_2021.columns.str.upper().tolist()).difference(set(datos_2017.columns.str.upper().tolist())))"
   ]
  },
  {
   "cell_type": "code",
   "execution_count": null,
   "id": "a945e6eb",
   "metadata": {},
   "outputs": [],
   "source": [
    "datos_2017[\"DESC CINE CAMPO AMPLIO\"] = \"NO APLICA\"\n",
    "datos_2017[\"DESC CINE CAMPO ESPECIFICO\"] = \"NO APLICA\"\n",
    "datos_2017[\"DESC CINE CODIGO DETALLADO\"] = \"NO APLICA\"\n",
    "datos_2017[\"ID CINE CAMPO AMPLIO\"] = 0\n",
    "datos_2017[\"ID CINE CAMPO ESPECIFICO\"] = 0\n",
    "datos_2017[\"ID CINE CODIGO DETALLADO\"] = 0"
   ]
  },
  {
   "cell_type": "code",
   "execution_count": null,
   "id": "8be6a104",
   "metadata": {},
   "outputs": [],
   "source": [
    "datos_2017_2021 = pd.concat([datos_2017, datos_2018_2021], axis = 0, ignore_index = True, join = \"inner\")"
   ]
  },
  {
   "cell_type": "code",
   "execution_count": null,
   "id": "7ba587b1",
   "metadata": {},
   "outputs": [],
   "source": [
    "datos_2016.columns = [x.upper() for x in datos_2016.columns.tolist()]"
   ]
  },
  {
   "cell_type": "code",
   "execution_count": null,
   "id": "cf0e7971",
   "metadata": {},
   "outputs": [],
   "source": [
    "print(set(datos_2016.columns.str.upper().tolist()).difference(set(datos_2017_2021.columns.str.upper().tolist())))\n",
    "print(set(datos_2017_2021.columns.str.upper().tolist()).difference(set(datos_2016.columns.str.upper().tolist())))"
   ]
  },
  {
   "cell_type": "code",
   "execution_count": null,
   "id": "f8d69e61",
   "metadata": {},
   "outputs": [],
   "source": [
    "datos_2016[\"DESC CINE CAMPO AMPLIO\"] = \"NO APLICA\"\n",
    "datos_2016[\"DESC CINE CAMPO ESPECIFICO\"] = \"NO APLICA\"\n",
    "datos_2016[\"DESC CINE CODIGO DETALLADO\"] = \"NO APLICA\"\n",
    "datos_2016[\"ID CINE CAMPO AMPLIO\"] = 0\n",
    "datos_2016[\"ID CINE CAMPO ESPECIFICO\"] = 0\n",
    "datos_2016[\"ID CINE CODIGO DETALLADO\"] = 0"
   ]
  },
  {
   "cell_type": "code",
   "execution_count": null,
   "id": "65b7fbe8",
   "metadata": {},
   "outputs": [],
   "source": [
    "datos_2016_2021 = pd.concat([datos_2016, datos_2017_2021], axis = 0, ignore_index = True, join = \"inner\")"
   ]
  },
  {
   "cell_type": "code",
   "execution_count": null,
   "id": "1ecccb61",
   "metadata": {},
   "outputs": [],
   "source": [
    "datos_2015.columns = [x.upper() for x in datos_2015.columns.tolist()]"
   ]
  },
  {
   "cell_type": "code",
   "execution_count": null,
   "id": "fe458796",
   "metadata": {},
   "outputs": [],
   "source": [
    "print(set(datos_2015.columns.str.upper().tolist()).difference(set(datos_2016_2021.columns.str.upper().tolist())))\n",
    "print(set(datos_2016_2021.columns.str.upper().tolist()).difference(set(datos_2015.columns.str.upper().tolist())))"
   ]
  },
  {
   "cell_type": "code",
   "execution_count": null,
   "id": "d4c6bcfe",
   "metadata": {},
   "outputs": [],
   "source": [
    "datos_2015[\"DESC CINE CAMPO AMPLIO\"] = \"NO APLICA\"\n",
    "datos_2015[\"DESC CINE CAMPO ESPECIFICO\"] = \"NO APLICA\"\n",
    "datos_2015[\"DESC CINE CODIGO DETALLADO\"] = \"NO APLICA\"\n",
    "datos_2015[\"ID CINE CAMPO AMPLIO\"] = 0\n",
    "datos_2015[\"ID CINE CAMPO ESPECIFICO\"] = 0\n",
    "datos_2015[\"ID CINE CODIGO DETALLADO\"] = 0"
   ]
  },
  {
   "cell_type": "code",
   "execution_count": null,
   "id": "8da2247b",
   "metadata": {},
   "outputs": [],
   "source": [
    "datos_2015[\"SEXO\"] = \"Error\"\n",
    "datos_2015[\"ID SEXO\"] = 4\n",
    "for i in range(0, len(datos_2015)):\n",
    "    if datos_2015[\"GÉNERO\"][i].upper() == \"MASCULINO\":\n",
    "        datos_2015[\"SEXO\"][i] = \"Hombre\"\n",
    "        datos_2015[\"ID SEXO\"][i] = 1\n",
    "    elif datos_2015[\"GÉNERO\"][i].upper() == \"FEMENINO\":\n",
    "        datos_2015[\"SEXO\"][i] = \"Mujer\"\n",
    "        datos_2015[\"ID SEXO\"][i] = 2\n",
    "    else:\n",
    "        datos_2015[\"SEXO\"][i] = \"Revisar\"\n",
    "        datos_2015[\"ID SEXO\"][i] = 3"
   ]
  },
  {
   "cell_type": "code",
   "execution_count": null,
   "id": "2cb31da2",
   "metadata": {},
   "outputs": [],
   "source": [
    "datos_2015[\"SEXO\"].value_counts()"
   ]
  },
  {
   "cell_type": "code",
   "execution_count": null,
   "id": "a074f084",
   "metadata": {},
   "outputs": [],
   "source": [
    "datos_2015_2021 = pd.concat([datos_2015, datos_2016_2021], axis = 0, ignore_index = True, join = \"inner\")"
   ]
  },
  {
   "cell_type": "code",
   "execution_count": null,
   "id": "71f79be7",
   "metadata": {},
   "outputs": [],
   "source": [
    "datos_2014.columns = [x.upper() for x in datos_2014.columns.tolist()]"
   ]
  },
  {
   "cell_type": "code",
   "execution_count": null,
   "id": "3336e584",
   "metadata": {},
   "outputs": [],
   "source": [
    "print(set(datos_2014.columns.str.upper().tolist()).difference(set(datos_2015_2021.columns.str.upper().tolist())))\n",
    "print(set(datos_2015_2021.columns.str.upper().tolist()).difference(set(datos_2014.columns.str.upper().tolist())))"
   ]
  },
  {
   "cell_type": "code",
   "execution_count": null,
   "id": "618ae417",
   "metadata": {},
   "outputs": [],
   "source": [
    "datos_2014[\"DESC CINE CAMPO AMPLIO\"] = \"NO APLICA\"\n",
    "datos_2014[\"DESC CINE CAMPO ESPECIFICO\"] = \"NO APLICA\"\n",
    "datos_2014[\"DESC CINE CODIGO DETALLADO\"] = \"NO APLICA\"\n",
    "datos_2014[\"ID CINE CAMPO AMPLIO\"] = 0\n",
    "datos_2014[\"ID CINE CAMPO ESPECIFICO\"] = 0\n",
    "datos_2014[\"ID CINE CODIGO DETALLADO\"] = 0"
   ]
  },
  {
   "cell_type": "code",
   "execution_count": null,
   "id": "34e4f56a",
   "metadata": {},
   "outputs": [],
   "source": [
    "datos_2014[\"SEXO\"] = \"Error\"\n",
    "datos_2014[\"ID SEXO\"] = 4\n",
    "for i in range(0, len(datos_2014)):\n",
    "    if datos_2014[\"GÉNERO\"][i].upper() == \"MASCULINO\":\n",
    "        datos_2014[\"SEXO\"][i] = \"Hombre\"\n",
    "        datos_2014[\"ID SEXO\"][i] = 1\n",
    "    elif datos_2014[\"GÉNERO\"][i].upper() == \"FEMENINO\":\n",
    "        datos_2014[\"SEXO\"][i] = \"Mujer\"\n",
    "        datos_2014[\"ID SEXO\"][i] = 2\n",
    "    else:\n",
    "        datos_2014[\"SEXO\"][i] = \"Revisar\"\n",
    "        datos_2014[\"ID SEXO\"][i] = 3"
   ]
  },
  {
   "cell_type": "code",
   "execution_count": null,
   "id": "c6635227",
   "metadata": {},
   "outputs": [],
   "source": [
    "datos_2014[\"SEXO\"].value_counts()"
   ]
  },
  {
   "cell_type": "code",
   "execution_count": null,
   "id": "b57b71f8",
   "metadata": {},
   "outputs": [],
   "source": [
    "datos_2014_2021 = pd.concat([datos_2014, datos_2015_2021], axis = 0, ignore_index = True, join = \"inner\")"
   ]
  },
  {
   "cell_type": "code",
   "execution_count": null,
   "id": "3e5bcd25",
   "metadata": {},
   "outputs": [],
   "source": [
    "datos_2014_2021 = datos_2014_2021[['CÓDIGO DE LA INSTITUCIÓN', 'IES PADRE',\n",
    "       'INSTITUCIÓN DE EDUCACIÓN SUPERIOR (IES)', 'PRINCIPAL O SECCIONAL',\n",
    "       'ID SECTOR IES', 'SECTOR IES', 'ID CARACTER', 'CARACTER IES',\n",
    "       'CÓDIGO DEL DEPARTAMENTO (IES)', 'DEPARTAMENTO DE DOMICILIO DE LA IES',\n",
    "       'CÓDIGO DEL MUNICIPIO (IES)', 'MUNICIPIO DE DOMICILIO DE LA IES',\n",
    "       'CÓDIGO SNIES DEL PROGRAMA', 'PROGRAMA ACADÉMICO', 'ID NIVEL ACADÉMICO',\n",
    "       'NIVEL ACADÉMICO', 'ID NIVEL DE FORMACIÓN', 'NIVEL DE FORMACIÓN',\n",
    "       'ID METODOLOGÍA', 'METODOLOGÍA', 'ID ÁREA', 'ÁREA DE CONOCIMIENTO',\n",
    "       'ID NÚCLEO', 'NÚCLEO BÁSICO DEL CONOCIMIENTO (NBC)',\n",
    "       'ID CINE CAMPO AMPLIO', 'DESC CINE CAMPO AMPLIO',\n",
    "       'ID CINE CAMPO ESPECIFICO', 'DESC CINE CAMPO ESPECIFICO',\n",
    "       'ID CINE CODIGO DETALLADO', 'DESC CINE CODIGO DETALLADO',\n",
    "       'CÓDIGO DEL DEPARTAMENTO (PROGRAMA)',\n",
    "       'DEPARTAMENTO DE OFERTA DEL PROGRAMA',\n",
    "       'CÓDIGO DEL MUNICIPIO (PROGRAMA)', 'MUNICIPIO DE OFERTA DEL PROGRAMA',\n",
    "       'ID SEXO', 'SEXO', 'AÑO', 'SEMESTRE', 'INSCRITOS']]"
   ]
  },
  {
   "cell_type": "code",
   "execution_count": null,
   "id": "efaae6ae",
   "metadata": {},
   "outputs": [],
   "source": [
    "datos_2014_2021[\"INSTITUCIÓN DE EDUCACIÓN SUPERIOR (IES)\"] = datos_2014_2021[\"INSTITUCIÓN DE EDUCACIÓN SUPERIOR (IES)\"].str.upper()\n",
    "datos_2014_2021[\"PRINCIPAL O SECCIONAL\"] = datos_2014_2021[\"PRINCIPAL O SECCIONAL\"].str.capitalize()\n",
    "datos_2014_2021[\"SECTOR IES\"] = datos_2014_2021[\"SECTOR IES\"].str.capitalize()\n",
    "datos_2014_2021[\"CARACTER IES\"] = datos_2014_2021[\"CARACTER IES\"].str.title()\n",
    "datos_2014_2021[\"DEPARTAMENTO DE DOMICILIO DE LA IES\"] = datos_2014_2021[\"DEPARTAMENTO DE DOMICILIO DE LA IES\"].str.title()\n",
    "datos_2014_2021[\"MUNICIPIO DE DOMICILIO DE LA IES\"] = datos_2014_2021[\"MUNICIPIO DE DOMICILIO DE LA IES\"].str.title()\n",
    "datos_2014_2021[\"NIVEL ACADÉMICO\"] = datos_2014_2021[\"NIVEL ACADÉMICO\"].str.title()\n",
    "datos_2014_2021[\"ID NIVEL DE FORMACIÓN\"] = datos_2014_2021[\"ID NIVEL DE FORMACIÓN\"].str.title()\n",
    "datos_2014_2021[\"NIVEL DE FORMACIÓN\"] = datos_2014_2021[\"NIVEL DE FORMACIÓN\"].str.title()\n",
    "datos_2014_2021[\"ID METODOLOGÍA\"] = datos_2014_2021[\"ID METODOLOGÍA\"].str.title()\n",
    "datos_2014_2021[\"METODOLOGÍA\"] = datos_2014_2021[\"METODOLOGÍA\"].str.title()\n",
    "datos_2014_2021[\"ID ÁREA\"] = datos_2014_2021[\"ID ÁREA\"].str.title()\n",
    "datos_2014_2021[\"ÁREA DE CONOCIMIENTO\"] = datos_2014_2021[\"ÁREA DE CONOCIMIENTO\"].str.title()\n",
    "datos_2014_2021[\"NÚCLEO BÁSICO DEL CONOCIMIENTO (NBC)\"] = datos_2014_2021[\"NÚCLEO BÁSICO DEL CONOCIMIENTO (NBC)\"].str.title()\n",
    "datos_2014_2021[\"ID CINE CAMPO AMPLIO\"] = datos_2014_2021[\"ID CINE CAMPO AMPLIO\"].str.title()\n",
    "datos_2014_2021[\"DESC CINE CAMPO AMPLIO\"] = datos_2014_2021[\"DESC CINE CAMPO AMPLIO\"].str.title()\n",
    "datos_2014_2021[\"DESC CINE CAMPO ESPECIFICO\"] = datos_2014_2021[\"DESC CINE CAMPO ESPECIFICO\"].str.title()\n",
    "datos_2014_2021[\"DESC CINE CODIGO DETALLADO\"] = datos_2014_2021[\"DESC CINE CODIGO DETALLADO\"].str.title()\n",
    "datos_2014_2021[\"DEPARTAMENTO DE OFERTA DEL PROGRAMA\"] = datos_2014_2021[\"DEPARTAMENTO DE OFERTA DEL PROGRAMA\"].str.title()\n",
    "datos_2014_2021[\"MUNICIPIO DE OFERTA DEL PROGRAMA\"] = datos_2014_2021[\"MUNICIPIO DE OFERTA DEL PROGRAMA\"].str.title()\n",
    "datos_2014_2021[\"SEXO\"] = datos_2014_2021[\"SEXO\"].str.capitalize()\n",
    "datos_2014_2021[\"CÓDIGO SNIES DEL PROGRAMA\"] = datos_2014_2021[\"CÓDIGO SNIES DEL PROGRAMA\"].str.title()\n",
    "datos_2014_2021[\"PROGRAMA ACADÉMICO\"] = datos_2014_2021[\"PROGRAMA ACADÉMICO\"].str.title()"
   ]
  },
  {
   "cell_type": "code",
   "execution_count": null,
   "id": "578fbe9f",
   "metadata": {},
   "outputs": [],
   "source": [
    "for i in range(0, len(datos_2014_2021)):\n",
    "    if (datos_2014_2021[\"DEPARTAMENTO DE OFERTA DEL PROGRAMA\"][i] == \"Bogota D.C\") | (datos_2014_2021[\"DEPARTAMENTO DE OFERTA DEL PROGRAMA\"][i] == \"Bogota D.C.\") | (datos_2014_2021[\"DEPARTAMENTO DE OFERTA DEL PROGRAMA\"][i] == \"Bogotá, D.C.\") | (datos_2014_2021[\"DEPARTAMENTO DE OFERTA DEL PROGRAMA\"][i] == \"Bogotá D.C\"):\n",
    "        datos_2014_2021[\"DEPARTAMENTO DE OFERTA DEL PROGRAMA\"][i] = \"Bogotá D.C.\"\n",
    "    elif datos_2014_2021[\"DEPARTAMENTO DE OFERTA DEL PROGRAMA\"][i] == \"Atlantico\":\n",
    "        datos_2014_2021[\"DEPARTAMENTO DE OFERTA DEL PROGRAMA\"][i] = \"Atlántico\"\n",
    "    elif datos_2014_2021[\"DEPARTAMENTO DE OFERTA DEL PROGRAMA\"][i] == \"Quindio\":\n",
    "        datos_2014_2021[\"DEPARTAMENTO DE OFERTA DEL PROGRAMA\"][i] = \"Quindío\"\n",
    "    elif datos_2014_2021[\"DEPARTAMENTO DE OFERTA DEL PROGRAMA\"][i] == \"Norte De Santan\":\n",
    "        datos_2014_2021[\"DEPARTAMENTO DE OFERTA DEL PROGRAMA\"][i] = \"Norte De Santander\"\n",
    "    elif datos_2014_2021[\"DEPARTAMENTO DE OFERTA DEL PROGRAMA\"][i] == \"Bolivar\":\n",
    "        datos_2014_2021[\"DEPARTAMENTO DE OFERTA DEL PROGRAMA\"][i] = \"Bolívar\"\n",
    "    elif datos_2014_2021[\"DEPARTAMENTO DE OFERTA DEL PROGRAMA\"][i] == \"Guajira\":\n",
    "        datos_2014_2021[\"DEPARTAMENTO DE OFERTA DEL PROGRAMA\"][i] = \"La Guajira\"\n",
    "    elif datos_2014_2021[\"DEPARTAMENTO DE OFERTA DEL PROGRAMA\"][i] == \"Boyaca\":\n",
    "        datos_2014_2021[\"DEPARTAMENTO DE OFERTA DEL PROGRAMA\"][i] = \"Boyacá\"\n",
    "    elif (datos_2014_2021[\"DEPARTAMENTO DE OFERTA DEL PROGRAMA\"][i] == \"Narino\") | (datos_2014_2021[\"DEPARTAMENTO DE OFERTA DEL PROGRAMA\"][i] == \"Narinio\"):\n",
    "        datos_2014_2021[\"DEPARTAMENTO DE OFERTA DEL PROGRAMA\"][i] = \"Nariño\"\n",
    "    elif datos_2014_2021[\"DEPARTAMENTO DE OFERTA DEL PROGRAMA\"][i] == \"Quindio\":\n",
    "        datos_2014_2021[\"DEPARTAMENTO DE OFERTA DEL PROGRAMA\"][i] = \"Quindío\"\n",
    "    elif datos_2014_2021[\"DEPARTAMENTO DE OFERTA DEL PROGRAMA\"][i] == \"Cordoba\":\n",
    "        datos_2014_2021[\"DEPARTAMENTO DE OFERTA DEL PROGRAMA\"][i] = \"Córdoba\"\n",
    "    elif datos_2014_2021[\"DEPARTAMENTO DE OFERTA DEL PROGRAMA\"][i] == \"Choco\":\n",
    "        datos_2014_2021[\"DEPARTAMENTO DE OFERTA DEL PROGRAMA\"][i] = \"Chocó\"\n",
    "    elif datos_2014_2021[\"DEPARTAMENTO DE OFERTA DEL PROGRAMA\"][i] == \"Caqueta\":\n",
    "        datos_2014_2021[\"DEPARTAMENTO DE OFERTA DEL PROGRAMA\"][i] = \"Caquetá\"\n",
    "    elif datos_2014_2021[\"DEPARTAMENTO DE OFERTA DEL PROGRAMA\"][i] == \"Guainia\":\n",
    "        datos_2014_2021[\"DEPARTAMENTO DE OFERTA DEL PROGRAMA\"][i] = \"Guainía\"\n",
    "    elif datos_2014_2021[\"DEPARTAMENTO DE OFERTA DEL PROGRAMA\"][i] == \"Vaupes\":\n",
    "        datos_2014_2021[\"DEPARTAMENTO DE OFERTA DEL PROGRAMA\"][i] = \"Vaupés\"\n",
    "    elif (datos_2014_2021[\"DEPARTAMENTO DE OFERTA DEL PROGRAMA\"][i] == \"San Andres Y Providencia\") | (datos_2014_2021[\"DEPARTAMENTO DE OFERTA DEL PROGRAMA\"][i] == \"San Andrés Y Providencia\"):\n",
    "        datos_2014_2021[\"DEPARTAMENTO DE OFERTA DEL PROGRAMA\"][i] = \"Archipiélago De San Andrés, Providencia Y Santa Catalina\"\n",
    "    elif datos_2014_2021[\"DEPARTAMENTO DE OFERTA DEL PROGRAMA\"][i] == \"Archipiélago De\":\n",
    "        datos_2014_2021[\"DEPARTAMENTO DE OFERTA DEL PROGRAMA\"][i] = \"Archipiélago De San Andrés, Providencia Y Santa Catalina\"\n",
    "    elif (datos_2014_2021[\"DEPARTAMENTO DE OFERTA DEL PROGRAMA\"][i] == \"Sin Programa Especifico\") | (datos_2014_2021[\"DEPARTAMENTO DE OFERTA DEL PROGRAMA\"][i] == \"Sin Programa Especificoa\"):\n",
    "        datos_2014_2021[\"DEPARTAMENTO DE OFERTA DEL PROGRAMA\"][i] = \"Sin Programa Específico\"\n",
    "    else:\n",
    "        pass"
   ]
  },
  {
   "cell_type": "code",
   "execution_count": null,
   "id": "0b892972",
   "metadata": {},
   "outputs": [],
   "source": [
    "for i in range(0, len(datos_2014_2021)):\n",
    "    if (datos_2014_2021[\"METODOLOGÍA\"][i] == \"Distancia (Virtual)\") | (datos_2014_2021[\"METODOLOGÍA\"][i] == \"A Distancia (Virtual)\") | (datos_2014_2021[\"METODOLOGÍA\"][i] == \"Virtual\"):\n",
    "        datos_2014_2021[\"METODOLOGÍA\"][i] = \"A Distancia (Virtual)\"\n",
    "        datos_2014_2021[\"ID METODOLOGÍA\"][i] = \"03\"\n",
    "    elif (datos_2014_2021[\"METODOLOGÍA\"][i] == \"Distancia (Tradicional)\") | (datos_2014_2021[\"METODOLOGÍA\"][i] == \"Distancia (Tradicion\") | (datos_2014_2021[\"METODOLOGÍA\"][i] == \"Distancia (Tradicio\") | (datos_2014_2021[\"METODOLOGÍA\"][i] == \"A Distancia (Tradicional)\") | (datos_2014_2021[\"METODOLOGÍA\"][i] == \"A Distancia\"):\n",
    "        datos_2014_2021[\"METODOLOGÍA\"][i] = \"A Distancia (Tradicional)\"\n",
    "        datos_2014_2021[\"ID METODOLOGÍA\"][i] = \"02\"\n",
    "    elif datos_2014_2021[\"METODOLOGÍA\"][i] == \"Presencial\":\n",
    "        datos_2014_2021[\"METODOLOGÍA\"][i] = \"Presencial\"\n",
    "        datos_2014_2021[\"ID METODOLOGÍA\"][i] = \"01\"\n",
    "    elif datos_2014_2021[\"METODOLOGÍA\"][i] == \"Presencial-Virtual\":\n",
    "        datos_2014_2021[\"METODOLOGÍA\"][i] = \"Presencial-Virtual\"\n",
    "        datos_2014_2021[\"ID METODOLOGÍA\"][i] = \"04\"\n",
    "    elif datos_2014_2021[\"METODOLOGÍA\"][i] == \"No Aplica\":\n",
    "        datos_2014_2021[\"METODOLOGÍA\"][i] = \"No Aplica\"\n",
    "        datos_2014_2021[\"ID METODOLOGÍA\"][i] = \"No Aplica\"\n",
    "    else:\n",
    "        pass"
   ]
  },
  {
   "cell_type": "code",
   "execution_count": null,
   "id": "c5d73a70",
   "metadata": {},
   "outputs": [],
   "source": [
    "for i in range(0, len(datos_2014_2021)):\n",
    "    if (datos_2014_2021[\"DESC CINE CODIGO DETALLADO\"][i] == \"Programas Y Certificaciones Interdisciplinarios Relativos A Ingeniería, Industria Y Construcción\") | (datos_2014_2021[\"DESC CINE CODIGO DETALLADO\"][i] == \"Programas Y Certificaciones Interdisciplinarios Relativos A Ingeniería, Industria Y Construcción \"):\n",
    "        datos_2014_2021[\"DESC CINE CODIGO DETALLADO\"][i] = \"Programas Y Certificaciones Interdisciplinarios Relativos A Ingeniería, Industria Y Construcción\"\n",
    "    elif datos_2014_2021[\"DESC CINE CODIGO DETALLADO\"][i] == \"Programas Y Certificaciones Interdisciplinarios Relativos A Tecnologías De La Información Y La Comunicación (Tic)\":\n",
    "        datos_2014_2021[\"DESC CINE CODIGO DETALLADO\"][i] = \"Programas Y Certificaciones Interdisciplinarios Relativos A Tecnologías De La Información Y La Comunicación (TIC)\"\n",
    "    elif datos_2014_2021[\"DESC CINE CODIGO DETALLADO\"][i] == \"Sin Programa Especifico\":\n",
    "        datos_2014_2021[\"DESC CINE CODIGO DETALLADO\"][i] = \"Sin Programa Específico\"\n",
    "    elif datos_2014_2021[\"DESC CINE CODIGO DETALLADO\"][i] == \"Tecnologías De La Información  Y La Comunicación (Tic) No Clasificada En Otra Parte\":\n",
    "        datos_2014_2021[\"DESC CINE CODIGO DETALLADO\"][i] = \"Tecnologías De La Información  Y La Comunicación (TIC) No Clasificada En Otra Parte\"\n",
    "    else:\n",
    "        pass"
   ]
  },
  {
   "cell_type": "code",
   "execution_count": null,
   "id": "daad5fd7",
   "metadata": {},
   "outputs": [],
   "source": [
    "for i in range(0, len(datos_2014_2021)):\n",
    "    if (datos_2014_2021[\"ÁREA DE CONOCIMIENTO\"][i] == \"Agronomia Veterinaria Y Afines\") | (datos_2014_2021[\"ÁREA DE CONOCIMIENTO\"][i] == \"Agronomía, Veterinaria Y Afines\"):\n",
    "        datos_2014_2021[\"ÁREA DE CONOCIMIENTO\"][i] = \"Agronomía, Veterinaria Y Afines\"\n",
    "        datos_2014_2021[\"ID ÁREA\"][i] = \"1\"\n",
    "    elif (datos_2014_2021[\"ÁREA DE CONOCIMIENTO\"][i] == \"Ciencias De La Educacion\") | (datos_2014_2021[\"ÁREA DE CONOCIMIENTO\"][i] == \"Ciencias De La Educación\"):\n",
    "        datos_2014_2021[\"ÁREA DE CONOCIMIENTO\"][i] = \"Ciencias De La Educación\"\n",
    "        datos_2014_2021[\"ID ÁREA\"][i] = \"3\"\n",
    "    elif (datos_2014_2021[\"ÁREA DE CONOCIMIENTO\"][i] == \"Economia Administracion Contaduria Y Afines\") | (datos_2014_2021[\"ÁREA DE CONOCIMIENTO\"][i] == \"Economía, Administración, Contaduría Y Afines\"):\n",
    "        datos_2014_2021[\"ÁREA DE CONOCIMIENTO\"][i] = \"Economía, Administración, Contaduría Y Afines\"\n",
    "        datos_2014_2021[\"ID ÁREA\"][i] = \"6\"\n",
    "    elif (datos_2014_2021[\"ÁREA DE CONOCIMIENTO\"][i] == \"Matematicas Y Ciencias Naturales\") | (datos_2014_2021[\"ÁREA DE CONOCIMIENTO\"][i] == \"Matemáticas Y Ciencias Naturales\"):\n",
    "        datos_2014_2021[\"ÁREA DE CONOCIMIENTO\"][i] = \"Matemáticas Y Ciencias Naturales\"\n",
    "        datos_2014_2021[\"ID ÁREA\"][i] = \"9\"\n",
    "    elif (datos_2014_2021[\"ÁREA DE CONOCIMIENTO\"][i] == \"Ingenieria Arquitectura Urbanismo Y Afines\") | (datos_2014_2021[\"ÁREA DE CONOCIMIENTO\"][i] == \"Ingeniería, Arquitectura, Urbanismo Y Afines\"):\n",
    "        datos_2014_2021[\"ÁREA DE CONOCIMIENTO\"][i] = \"Ingeniería, Arquitectura, Urbanismo Y Afines\"\n",
    "        datos_2014_2021[\"ID ÁREA\"][i] = \"8\"\n",
    "    elif datos_2014_2021[\"ÁREA DE CONOCIMIENTO\"][i] == \"Sin Programa Especifico\":\n",
    "        datos_2014_2021[\"ÁREA DE CONOCIMIENTO\"][i] = \"Sin Programa Específico\"\n",
    "        datos_2014_2021[\"ID ÁREA\"][i] = \"Sin Programa Específico\"\n",
    "    else:\n",
    "        pass"
   ]
  },
  {
   "cell_type": "code",
   "execution_count": null,
   "id": "807282be",
   "metadata": {},
   "outputs": [],
   "source": [
    "for i in range(0, len(datos_2014_2021)):\n",
    "    if datos_2014_2021[\"CARACTER IES\"][i] == \"Institucion Universitaria/Escuela Tecnologica\":\n",
    "        datos_2014_2021[\"CARACTER IES\"][i] = \"Institución Universitaria / Escuela Tecnológica\"\n",
    "    elif datos_2014_2021[\"CARACTER IES\"][i] == \"Institucion Tecnologica\":\n",
    "        datos_2014_2021[\"CARACTER IES\"][i] = \"Institución Tecnológica\"\n",
    "    elif datos_2014_2021[\"CARACTER IES\"][i] == \"Institucion Tecnica Profesional\":\n",
    "        datos_2014_2021[\"CARACTER IES\"][i] = \"Institución Técnica Profesional\"\n",
    "    elif datos_2014_2021[\"CARACTER IES\"][i] == \"Institución Universitaria/Escuela Tecnológica\":\n",
    "        datos_2014_2021[\"CARACTER IES\"][i] = \"Institución Universitaria / Escuela Tecnológica\"\n",
    "    else:\n",
    "        pass"
   ]
  },
  {
   "cell_type": "code",
   "execution_count": null,
   "id": "72ca5aa1",
   "metadata": {},
   "outputs": [],
   "source": [
    "for i in range(0, len(datos_2014_2021)):\n",
    "    if (datos_2014_2021[\"DEPARTAMENTO DE DOMICILIO DE LA IES\"][i] == \"Bogota D.C\") | (datos_2014_2021[\"DEPARTAMENTO DE DOMICILIO DE LA IES\"][i] == \"Bogota D.C.\") | (datos_2014_2021[\"DEPARTAMENTO DE DOMICILIO DE LA IES\"][i] == \"Bogotá, D.C.\") | (datos_2014_2021[\"DEPARTAMENTO DE DOMICILIO DE LA IES\"][i] == \"Bogotá D.C\"):\n",
    "        datos_2014_2021[\"DEPARTAMENTO DE DOMICILIO DE LA IES\"][i] = \"Bogotá D.C.\"\n",
    "    elif datos_2014_2021[\"DEPARTAMENTO DE DOMICILIO DE LA IES\"][i] == \"Atlantico\":\n",
    "        datos_2014_2021[\"DEPARTAMENTO DE DOMICILIO DE LA IES\"][i] = \"Atlántico\"\n",
    "    elif datos_2014_2021[\"DEPARTAMENTO DE DOMICILIO DE LA IES\"][i] == \"Valle Del C\":\n",
    "        datos_2014_2021[\"DEPARTAMENTO DE DOMICILIO DE LA IES\"][i] = \"Valle Del Cauca\"\n",
    "    elif datos_2014_2021[\"DEPARTAMENTO DE DOMICILIO DE LA IES\"][i] == \"Norte De Sa\":\n",
    "        datos_2014_2021[\"DEPARTAMENTO DE DOMICILIO DE LA IES\"][i] = \"Norte De Santander\"\n",
    "    elif datos_2014_2021[\"DEPARTAMENTO DE DOMICILIO DE LA IES\"][i] == \"Bolivar\":\n",
    "        datos_2014_2021[\"DEPARTAMENTO DE DOMICILIO DE LA IES\"][i] = \"Bolívar\"\n",
    "    elif datos_2014_2021[\"DEPARTAMENTO DE DOMICILIO DE LA IES\"][i] == \"Cundinamarc\":\n",
    "        datos_2014_2021[\"DEPARTAMENTO DE DOMICILIO DE LA IES\"][i] = \"Cundinamarca\"\n",
    "    elif datos_2014_2021[\"DEPARTAMENTO DE DOMICILIO DE LA IES\"][i] == \"Boyaca\":\n",
    "        datos_2014_2021[\"DEPARTAMENTO DE DOMICILIO DE LA IES\"][i] = \"Boyacá\"\n",
    "    elif datos_2014_2021[\"DEPARTAMENTO DE DOMICILIO DE LA IES\"][i] == \"Narino\":\n",
    "        datos_2014_2021[\"DEPARTAMENTO DE DOMICILIO DE LA IES\"][i] = \"Nariño\"\n",
    "    elif datos_2014_2021[\"DEPARTAMENTO DE DOMICILIO DE LA IES\"][i] == \"Quindio\":\n",
    "        datos_2014_2021[\"DEPARTAMENTO DE DOMICILIO DE LA IES\"][i] = \"Quindío\"\n",
    "    elif datos_2014_2021[\"DEPARTAMENTO DE DOMICILIO DE LA IES\"][i] == \"Cordoba\":\n",
    "        datos_2014_2021[\"DEPARTAMENTO DE DOMICILIO DE LA IES\"][i] = \"Córdoba\"\n",
    "    elif datos_2014_2021[\"DEPARTAMENTO DE DOMICILIO DE LA IES\"][i] == \"Choco\":\n",
    "        datos_2014_2021[\"DEPARTAMENTO DE DOMICILIO DE LA IES\"][i] = \"Chocó\"\n",
    "    elif datos_2014_2021[\"DEPARTAMENTO DE DOMICILIO DE LA IES\"][i] == \"Caqueta\":\n",
    "        datos_2014_2021[\"DEPARTAMENTO DE DOMICILIO DE LA IES\"][i] = \"Caquetá\"\n",
    "    elif (datos_2014_2021[\"DEPARTAMENTO DE DOMICILIO DE LA IES\"][i] == \"San Andres Y Providencia\") | (datos_2014_2021[\"DEPARTAMENTO DE DOMICILIO DE LA IES\"][i] == \"San Andrés Y Providencia\"):\n",
    "        datos_2014_2021[\"DEPARTAMENTO DE DOMICILIO DE LA IES\"][i] = \"Archipiélago De San Andrés, Providencia Y Santa Catalina\"\n",
    "    elif datos_2014_2021[\"DEPARTAMENTO DE DOMICILIO DE LA IES\"][i] == \"Archipiélag\":\n",
    "        datos_2014_2021[\"DEPARTAMENTO DE DOMICILIO DE LA IES\"][i] = \"Archipiélago De San Andrés, Providencia Y Santa Catalina\"\n",
    "    else:\n",
    "        pass"
   ]
  },
  {
   "cell_type": "code",
   "execution_count": null,
   "id": "cd7671a8",
   "metadata": {},
   "outputs": [],
   "source": [
    "for i in range(0, len(datos_2014_2021)):\n",
    "    if datos_2014_2021[\"NIVEL DE FORMACIÓN\"][i] == \"Especialización Médico Quirúr\":\n",
    "        datos_2014_2021[\"NIVEL DE FORMACIÓN\"][i] = \"Especialización Médico Quirúrgica\"\n",
    "    elif datos_2014_2021[\"NIVEL DE FORMACIÓN\"][i] == \"Especialización Técnico Profe\":\n",
    "        datos_2014_2021[\"NIVEL DE FORMACIÓN\"][i] = \"Especialización Técnico Profesional\"\n",
    "    elif datos_2014_2021[\"NIVEL DE FORMACIÓN\"][i] == \"Formacion Tecnica Profesional\":\n",
    "        datos_2014_2021[\"NIVEL DE FORMACIÓN\"][i] = \"Formación Técnica Profesional\"\n",
    "    elif datos_2014_2021[\"NIVEL DE FORMACIÓN\"][i] == \"Maestria\":\n",
    "        datos_2014_2021[\"NIVEL DE FORMACIÓN\"][i] = \"Maestría\"\n",
    "    elif datos_2014_2021[\"NIVEL DE FORMACIÓN\"][i] == \"Tecnologica\":\n",
    "        datos_2014_2021[\"NIVEL DE FORMACIÓN\"][i] = \"Tecnológica\"\n",
    "    elif datos_2014_2021[\"NIVEL DE FORMACIÓN\"][i] == \"Sin Programa Especifico\":\n",
    "        datos_2014_2021[\"NIVEL DE FORMACIÓN\"][i] = \"Sin Programa Específico\"\n",
    "    else:\n",
    "        pass"
   ]
  },
  {
   "cell_type": "code",
   "execution_count": null,
   "id": "ece51a09",
   "metadata": {},
   "outputs": [],
   "source": [
    "for i in range(0, len(datos_2014_2021)):\n",
    "    if datos_2014_2021[\"DESC CINE CAMPO AMPLIO\"][i] == \"Tecnologías De La Información Y La Comunicación (Tic)\":\n",
    "        datos_2014_2021[\"DESC CINE CAMPO AMPLIO\"][i] = \"Tecnologías De La Información Y La Comunicación (TIC)\"\n",
    "    elif datos_2014_2021[\"DESC CINE CAMPO AMPLIO\"][i] == \"Sin Programa Especifico\":\n",
    "        datos_2014_2021[\"DESC CINE CAMPO AMPLIO\"][i] = \"Sin Programa Específico\"\n",
    "    else:\n",
    "        pass"
   ]
  },
  {
   "cell_type": "code",
   "execution_count": null,
   "id": "7c8707b2",
   "metadata": {},
   "outputs": [],
   "source": [
    "PP = datos_2014_2021.groupby(['IES PADRE', 'INSTITUCIÓN DE EDUCACIÓN SUPERIOR (IES)']).size().reset_index()[['IES PADRE', 'INSTITUCIÓN DE EDUCACIÓN SUPERIOR (IES)']]\n",
    "PP\n",
    "PP1 = PP[\"INSTITUCIÓN DE EDUCACIÓN SUPERIOR (IES)\"].tolist()\n",
    "PP1\n",
    "PP2 = []\n",
    "for i in range(0, len(PP1)):\n",
    "    for j in range(0, len(PP1)):\n",
    "        if i == j:\n",
    "            pass\n",
    "        elif j < i:\n",
    "            pass\n",
    "        else:\n",
    "            PP2.append([i, j, similitud(PP1[i], PP1[j])])"
   ]
  },
  {
   "cell_type": "code",
   "execution_count": null,
   "id": "80d080ff",
   "metadata": {},
   "outputs": [],
   "source": [
    "dfff = pd.DataFrame(data = PP2, columns = [\"Par_i\", \"Par_j\", \"Similitud\"])\n",
    "dfff[\"ij\"] = dfff[\"Par_j\"] - dfff[\"Par_i\"]\n",
    "total = dfff[(dfff[\"Similitud\"] > 0.94) & (dfff[\"ij\"] < 10)]\n",
    "total_ala = total[total[\"Similitud\"] == 1]\n",
    "total_sim = total[total[\"Similitud\"] != 1]\n",
    "PP[\"NN\"] = PP[\"INSTITUCIÓN DE EDUCACIÓN SUPERIOR (IES)\"].str.find(\"¿\")"
   ]
  },
  {
   "cell_type": "code",
   "execution_count": null,
   "id": "18c7468d",
   "metadata": {},
   "outputs": [],
   "source": [
    "datos_2014_2021[\"NN\"] = datos_2014_2021[\"INSTITUCIÓN DE EDUCACIÓN SUPERIOR (IES)\"].str.find(\"¿\")\n",
    "datos_2014_2021[datos_2014_2021[\"NN\"] != -1]"
   ]
  },
  {
   "cell_type": "code",
   "execution_count": null,
   "id": "cefbc6c5",
   "metadata": {},
   "outputs": [],
   "source": [
    "for i in range(0, len(datos_2014_2021)):\n",
    "    if len(total_sim[total_sim[\"Par_i\"] == PP1.index(datos_2014_2021[\"INSTITUCIÓN DE EDUCACIÓN SUPERIOR (IES)\"][datos_2014_2021[datos_2014_2021[\"NN\"] != -1].index[i]])].index) == 0:\n",
    "        pass\n",
    "    else:\n",
    "        datos_2014_2021[\"INSTITUCIÓN DE EDUCACIÓN SUPERIOR (IES)\"][datos_2014_2021[datos_2014_2021[\"NN\"] != -1].index[i]] = PP1[total_sim[\"Par_j\"][total_sim[total_sim[\"Par_i\"] == PP1.index(datos_2014_2021[\"INSTITUCIÓN DE EDUCACIÓN SUPERIOR (IES)\"][datos_2014_2021[datos_2014_2021[\"NN\"] != -1].index[i]])].index[len(total_sim[total_sim[\"Par_i\"] == PP1.index(datos_2014_2021[\"INSTITUCIÓN DE EDUCACIÓN SUPERIOR (IES)\"][datos_2014_2021[datos_2014_2021[\"NN\"] != -1].index[i]])].index) - 1]]]"
   ]
  },
  {
   "cell_type": "code",
   "execution_count": null,
   "id": "3196bbf0",
   "metadata": {},
   "outputs": [],
   "source": [
    "for i in range(0, len(datos_2014_2021[datos_2014_2021[\"NN\"] != -1])):\n",
    "    if datos_2014_2021[\"INSTITUCIÓN DE EDUCACIÓN SUPERIOR (IES)\"][datos_2014_2021[datos_2014_2021[\"NN\"] != -1].index[i]] == \"UNIVERSIDAD CAT¿LICA LUIS AMIG¿\":\n",
    "        datos_2014_2021[\"INSTITUCIÓN DE EDUCACIÓN SUPERIOR (IES)\"][datos_2014_2021[datos_2014_2021[\"NN\"] != -1].index[i]] = \"UNIVERSIDAD CATÓLICA LUIS AMIGÓ\"\n",
    "    elif datos_2014_2021[\"INSTITUCIÓN DE EDUCACIÓN SUPERIOR (IES)\"][datos_2014_2021[datos_2014_2021[\"NN\"] != -1].index[i]] == \"UNIVERSIDAD CESMAG ¿ UNICESMAG\":\n",
    "        datos_2014_2021[\"INSTITUCIÓN DE EDUCACIÓN SUPERIOR (IES)\"][datos_2014_2021[datos_2014_2021[\"NN\"] != -1].index[i]] = \"UNIVERSIDAD CESMAG - UNICESMAG\"\n",
    "    elif datos_2014_2021[\"INSTITUCIÓN DE EDUCACIÓN SUPERIOR (IES)\"][datos_2014_2021[datos_2014_2021[\"NN\"] != -1].index[i]] == \"CORPORACION UNIVERSITARIA TALLER 5 CENTRO DE DISE¿O\":\n",
    "        datos_2014_2021[\"INSTITUCIÓN DE EDUCACIÓN SUPERIOR (IES)\"][datos_2014_2021[datos_2014_2021[\"NN\"] != -1].index[i]] = \"CORPORACIÓN UNIVERSITARIA TALLER 5 CENTRO DE DISEÑO\"\n",
    "    elif datos_2014_2021[\"INSTITUCIÓN DE EDUCACIÓN SUPERIOR (IES)\"][datos_2014_2021[datos_2014_2021[\"NN\"] != -1].index[i]] == \"ESEIT ¿ ESCUELA SUPERIOR DE EMPRESA, INGENIER¿A Y TECNOLOG¿A\":\n",
    "        datos_2014_2021[\"INSTITUCIÓN DE EDUCACIÓN SUPERIOR (IES)\"][datos_2014_2021[datos_2014_2021[\"NN\"] != -1].index[i]] = \"ESEIT - ESCUELA SUPERIOR DE EMPRESA, INGENIERÍA Y TECNOLOGÍA\"\n",
    "    else:\n",
    "        pass"
   ]
  },
  {
   "cell_type": "code",
   "execution_count": null,
   "id": "752a3d13",
   "metadata": {},
   "outputs": [],
   "source": [
    "for i in range(0, len(datos_2014_2021)):\n",
    "    if len(set([datos_2014_2021[\"INSTITUCIÓN DE EDUCACIÓN SUPERIOR (IES)\"][i]]).intersection(PP1)) == 0:        \n",
    "        pass\n",
    "    elif len(total_ala[total_ala[\"Par_i\"] == PP1.index(datos_2014_2021[\"INSTITUCIÓN DE EDUCACIÓN SUPERIOR (IES)\"][i])].index) == 0:\n",
    "        pass\n",
    "    else:\n",
    "        datos_2014_2021[\"INSTITUCIÓN DE EDUCACIÓN SUPERIOR (IES)\"][i] = PP1[total_ala[\"Par_j\"][total_ala[total_ala[\"Par_i\"] == PP1.index(datos_2014_2021[\"INSTITUCIÓN DE EDUCACIÓN SUPERIOR (IES)\"][i])].index[len(total_ala[total_ala[\"Par_i\"] == PP1.index(datos_2014_2021[\"INSTITUCIÓN DE EDUCACIÓN SUPERIOR (IES)\"][i])].index) - 1]]]"
   ]
  },
  {
   "cell_type": "code",
   "execution_count": null,
   "id": "a437e0ba",
   "metadata": {},
   "outputs": [],
   "source": [
    "orden = datos_2014_2021[datos_2014_2021.columns[34]].unique().tolist()\n",
    "orden.sort(reverse=False)\n",
    "PP3 = datos_2014_2021.groupby(['CÓDIGO DEL MUNICIPIO (IES)', 'MUNICIPIO DE DOMICILIO DE LA IES']).size().reset_index()[['CÓDIGO DEL MUNICIPIO (IES)', 'MUNICIPIO DE DOMICILIO DE LA IES']]\n",
    "orden"
   ]
  },
  {
   "cell_type": "code",
   "execution_count": null,
   "id": "efee52fe",
   "metadata": {},
   "outputs": [],
   "source": [
    "for i in range(0, len(datos_2014_2021)):\n",
    "    if len(PP3[PP3[\"CÓDIGO DEL MUNICIPIO (IES)\"] == PP3[\"CÓDIGO DEL MUNICIPIO (IES)\"][PP3[PP3[\"MUNICIPIO DE DOMICILIO DE LA IES\"] == datos_2014_2021[\"MUNICIPIO DE DOMICILIO DE LA IES\"][i]].index[0]]]) == 1:\n",
    "        pass\n",
    "    else:\n",
    "        datos_2014_2021[\"MUNICIPIO DE DOMICILIO DE LA IES\"][i] = PP3[\"MUNICIPIO DE DOMICILIO DE LA IES\"][PP3[PP3[\"CÓDIGO DEL MUNICIPIO (IES)\"] == PP3[\"CÓDIGO DEL MUNICIPIO (IES)\"][PP3[PP3[\"MUNICIPIO DE DOMICILIO DE LA IES\"] == datos_2014_2021[\"MUNICIPIO DE DOMICILIO DE LA IES\"][i]].index[0]]].index[len(PP3[PP3[\"CÓDIGO DEL MUNICIPIO (IES)\"] == PP3[\"CÓDIGO DEL MUNICIPIO (IES)\"][PP3[PP3[\"MUNICIPIO DE DOMICILIO DE LA IES\"] == datos_2014_2021[\"MUNICIPIO DE DOMICILIO DE LA IES\"][i]].index[0]]]) - 1]]"
   ]
  },
  {
   "cell_type": "code",
   "execution_count": null,
   "id": "7ff713aa",
   "metadata": {},
   "outputs": [],
   "source": [
    "QQ = datos_2014_2021.groupby(['CÓDIGO SNIES DEL PROGRAMA', 'PROGRAMA ACADÉMICO']).size().reset_index()[['CÓDIGO SNIES DEL PROGRAMA', 'PROGRAMA ACADÉMICO']]\n",
    "QQ"
   ]
  },
  {
   "cell_type": "code",
   "execution_count": null,
   "id": "d4bd7411",
   "metadata": {},
   "outputs": [],
   "source": [
    "for i in range(0, len(datos_2014_2021)):\n",
    "    #print(i)\n",
    "    if math.isnan(datos_2014_2021['CÓDIGO SNIES DEL PROGRAMA'][0]):\n",
    "        pass\n",
    "    elif len(QQ[QQ[\"CÓDIGO SNIES DEL PROGRAMA\"] == QQ[\"CÓDIGO SNIES DEL PROGRAMA\"][QQ[QQ[\"PROGRAMA ACADÉMICO\"] == datos_2014_2021[\"PROGRAMA ACADÉMICO\"][i]].index[0]]]) == \"1\":\n",
    "        pass\n",
    "    else:\n",
    "        datos_2014_2021[\"PROGRAMA ACADÉMICO\"][i] = QQ[\"PROGRAMA ACADÉMICO\"][QQ[QQ[\"CÓDIGO SNIES DEL PROGRAMA\"] == QQ[\"CÓDIGO SNIES DEL PROGRAMA\"][QQ[QQ[\"PROGRAMA ACADÉMICO\"] == datos_2014_2021[\"PROGRAMA ACADÉMICO\"][i]].index[0]]].index[len(QQ[QQ[\"CÓDIGO SNIES DEL PROGRAMA\"] == QQ[\"CÓDIGO SNIES DEL PROGRAMA\"][QQ[QQ[\"PROGRAMA ACADÉMICO\"] == datos_2014_2021[\"PROGRAMA ACADÉMICO\"][i]].index[0]]]) - 1]]"
   ]
  },
  {
   "cell_type": "code",
   "execution_count": null,
   "id": "d5ad6d96",
   "metadata": {},
   "outputs": [],
   "source": [
    "datos_2014_2021[\"PROGRAMA ACADÉMICO\"] = datos_2014_2021[\"PROGRAMA ACADÉMICO\"].str.replace(\"  \", \" \")\n",
    "PP2 = []\n",
    "for i in range(0, len(orden)):\n",
    "    for j in range(0, len(orden)):\n",
    "        if i == j:\n",
    "            pass\n",
    "        elif j < i:\n",
    "            pass\n",
    "        else:\n",
    "            PP2.append([i, j, similitud(orden[i], orden[j])])"
   ]
  },
  {
   "cell_type": "code",
   "execution_count": null,
   "id": "e9447427",
   "metadata": {},
   "outputs": [],
   "source": [
    "dfff = pd.DataFrame(data = PP2, columns = [\"Par_i\", \"Par_j\", \"Similitud\"])\n",
    "dfff[\"ij\"] = dfff[\"Par_j\"] - dfff[\"Par_i\"]\n",
    "total = dfff[(dfff[\"Similitud\"] > 0.94) & (dfff[\"ij\"] < 10)]"
   ]
  },
  {
   "cell_type": "code",
   "execution_count": null,
   "id": "ee4f1876",
   "metadata": {},
   "outputs": [],
   "source": [
    "for i in range(0, len(datos_2014_2021)):\n",
    "    if len(set([datos_2014_2021[\"PROGRAMA ACADÉMICO\"][i]]).intersection(orden)) == 0:        \n",
    "        pass\n",
    "    elif len(total[total[\"Par_i\"] == orden.index(datos_2014_2021[\"PROGRAMA ACADÉMICO\"][i])].index) == 0:\n",
    "        pass\n",
    "    else:\n",
    "        datos_2014_2021[\"PROGRAMA ACADÉMICO\"][i] = orden[total[\"Par_j\"][total[total[\"Par_i\"] == orden.index(datos_2014_2021[\"PROGRAMA ACADÉMICO\"][i])].index[len(total[total[\"Par_i\"] == orden.index(datos_2014_2021[\"PROGRAMA ACADÉMICO\"][i])].index) - 1]]]"
   ]
  },
  {
   "cell_type": "code",
   "execution_count": null,
   "id": "24764613",
   "metadata": {},
   "outputs": [],
   "source": [
    "RR = datos_2014_2021.groupby(['CÓDIGO DEL MUNICIPIO (PROGRAMA)', 'MUNICIPIO DE OFERTA DEL PROGRAMA']).size().reset_index()[['CÓDIGO DEL MUNICIPIO (PROGRAMA)', 'MUNICIPIO DE OFERTA DEL PROGRAMA']]"
   ]
  },
  {
   "cell_type": "code",
   "execution_count": null,
   "id": "b6ecd83b",
   "metadata": {},
   "outputs": [],
   "source": [
    "for i in range(0, len(datos_2014_2021)):\n",
    "    if len(RR[RR[\"CÓDIGO DEL MUNICIPIO (PROGRAMA)\"] == RR[\"CÓDIGO DEL MUNICIPIO (PROGRAMA)\"][RR[RR[\"MUNICIPIO DE OFERTA DEL PROGRAMA\"] == datos_2014_2021[\"MUNICIPIO DE OFERTA DEL PROGRAMA\"][i]].index[0]]]) == 1:\n",
    "        pass\n",
    "    else:\n",
    "        datos_2014_2021[\"MUNICIPIO DE OFERTA DEL PROGRAMA\"][i] = RR[\"MUNICIPIO DE OFERTA DEL PROGRAMA\"][RR[RR[\"CÓDIGO DEL MUNICIPIO (PROGRAMA)\"] == RR[\"CÓDIGO DEL MUNICIPIO (PROGRAMA)\"][RR[RR[\"MUNICIPIO DE OFERTA DEL PROGRAMA\"] == datos_2014_2021[\"MUNICIPIO DE OFERTA DEL PROGRAMA\"][i]].index[0]]].index[len(RR[RR[\"CÓDIGO DEL MUNICIPIO (PROGRAMA)\"] == RR[\"CÓDIGO DEL MUNICIPIO (PROGRAMA)\"][RR[RR[\"MUNICIPIO DE OFERTA DEL PROGRAMA\"] == datos_2014_2021[\"MUNICIPIO DE OFERTA DEL PROGRAMA\"][i]].index[0]]]) - 1]]"
   ]
  },
  {
   "cell_type": "code",
   "execution_count": null,
   "id": "a5a38ac8",
   "metadata": {},
   "outputs": [],
   "source": [
    "for i in range(0, len(datos_2014_2021)):\n",
    "    if datos_2014_2021[\"NIVEL DE FORMACIÓN\"][i] == \"Especialización Universitaria\":\n",
    "        datos_2014_2021[\"ID NIVEL DE FORMACIÓN\"][i] = \"01\"\n",
    "    elif datos_2014_2021[\"NIVEL DE FORMACIÓN\"][i] == \"Maestría\":\n",
    "        datos_2014_2021[\"ID NIVEL DE FORMACIÓN\"][i] = \"02\"\n",
    "    elif datos_2014_2021[\"NIVEL DE FORMACIÓN\"][i] == \"Doctorado\":\n",
    "        datos_2014_2021[\"ID NIVEL DE FORMACIÓN\"][i] = \"03\"\n",
    "    elif datos_2014_2021[\"NIVEL DE FORMACIÓN\"][i] == \"Formación Técnica Profesional\":\n",
    "        datos_2014_2021[\"ID NIVEL DE FORMACIÓN\"][i] = \"04\"\n",
    "    elif (datos_2014_2021[\"NIVEL DE FORMACIÓN\"][i] == \"Tecnológica\") | (datos_2014_2021[\"NIVEL DE FORMACIÓN\"][i] == \"Tecnológico\"):\n",
    "        datos_2014_2021[\"ID NIVEL DE FORMACIÓN\"][i] = \"05\"\n",
    "    elif (datos_2014_2021[\"NIVEL DE FORMACIÓN\"][i] == \"Universitaria\") | (datos_2014_2021[\"NIVEL DE FORMACIÓN\"][i] == \"Universitario\"):\n",
    "        datos_2014_2021[\"ID NIVEL DE FORMACIÓN\"][i] = \"06\"\n",
    "    elif datos_2014_2021[\"NIVEL DE FORMACIÓN\"][i] == \"Especialización Técnico Profesional\":\n",
    "        datos_2014_2021[\"ID NIVEL DE FORMACIÓN\"][i] = \"07\"\n",
    "    elif datos_2014_2021[\"NIVEL DE FORMACIÓN\"][i] == \"Especialización Tecnológica\":\n",
    "        datos_2014_2021[\"ID NIVEL DE FORMACIÓN\"][i] = \"08\"\n",
    "    elif datos_2014_2021[\"NIVEL DE FORMACIÓN\"][i] == \"Especialización Médico Quirúrgica\":\n",
    "        datos_2014_2021[\"ID NIVEL DE FORMACIÓN\"][i] = \"10\"\n",
    "    elif datos_2014_2021[\"NIVEL DE FORMACIÓN\"][i] == \"No aplica\":\n",
    "        datos_2014_2021[\"ID NIVEL DE FORMACIÓN\"][i] = \"No aplica\"\n",
    "    elif datos_2014_2021[\"NIVEL DE FORMACIÓN\"][i] == \"Sin Programa Específico\":\n",
    "        datos_2014_2021[\"ID NIVEL DE FORMACIÓN\"][i] = \"Sin Programa Específico\"\n",
    "    else:\n",
    "        pass"
   ]
  },
  {
   "cell_type": "code",
   "execution_count": null,
   "id": "c7585b63",
   "metadata": {},
   "outputs": [],
   "source": [
    "datos_2014_2021 = datos_2014_2021[(datos_2014_2021[\"MUNICIPIO DE OFERTA DEL PROGRAMA\"] != \"Sin Programa Especifico\") | (datos_2014_2021[datos_2014_2021[\"CÓDIGO SNIES DEL PROGRAMA\"] != \"Sin Programa Especifico\"])]\n",
    "datos_2014_2021 = datos_2014_2021[datos_2014_2021[\"CÓDIGO SNIES DEL PROGRAMA\"] != \"Sin Programa Especifico\"]\n",
    "datos_2014_2021 = datos_2014_2021[datos_2014_2021[\"CÓDIGO SNIES DEL PROGRAMA\"] != \"Sin Programa Específico\"]\n",
    "datos_2014_2021 = datos_2014_2021[datos_2014_2021[\"CÓDIGO DEL MUNICIPIO (PROGRAMA)\"] != 0]"
   ]
  },
  {
   "cell_type": "code",
   "execution_count": null,
   "id": "01dd201a",
   "metadata": {},
   "outputs": [],
   "source": [
    "for i in range(0, len(datos_2014_2021)):\n",
    "    if (datos_2014_2021[\"METODOLOGÍA\"][i] == \"Distancia (Virtual)\") | (datos_2014_2021[\"METODOLOGÍA\"][i] == \"A Distancia (Virtual)\") | (datos_2014_2021[\"METODOLOGÍA\"][i] == \"Virtual\"):\n",
    "        datos_2014_2021[\"METODOLOGÍA\"][i] = \"A Distancia (Virtual)\"\n",
    "        datos_2014_2021[\"ID METODOLOGÍA\"][i] = \"03\"\n",
    "    elif (datos_2014_2021[\"METODOLOGÍA\"][i] == \"Distancia (Tradicional)\") | (datos_2014_2021[\"METODOLOGÍA\"][i] == \"Distancia (Tradicion\") | (datos_2014_2021[\"METODOLOGÍA\"][i] == \"Distancia (Tradicio\") | (datos_2014_2021[\"METODOLOGÍA\"][i] == \"A Distancia (Tradicional)\") | (datos_2014_2021[\"METODOLOGÍA\"][i] == \"A Distancia\"):\n",
    "        datos_2014_2021[\"METODOLOGÍA\"][i] = \"A Distancia (Tradicional)\"\n",
    "        datos_2014_2021[\"ID METODOLOGÍA\"][i] = \"02\"\n",
    "    elif datos_2014_2021[\"METODOLOGÍA\"][i] == \"Presencial\":\n",
    "        datos_2014_2021[\"METODOLOGÍA\"][i] = \"Presencial\"\n",
    "        datos_2014_2021[\"ID METODOLOGÍA\"][i] = \"01\"\n",
    "    elif datos_2014_2021[\"METODOLOGÍA\"][i] == \"Presencial-Virtual\":\n",
    "        datos_2014_2021[\"METODOLOGÍA\"][i] = \"Presencial-Virtual\"\n",
    "        datos_2014_2021[\"ID METODOLOGÍA\"][i] = \"04\"\n",
    "    elif datos_2014_2021[\"METODOLOGÍA\"][i] == \"No Aplica\":\n",
    "        datos_2014_2021[\"METODOLOGÍA\"][i] = \"No Aplica\"\n",
    "        datos_2014_2021[\"ID METODOLOGÍA\"][i] = \"No Aplica\"\n",
    "    else:\n",
    "        pass"
   ]
  },
  {
   "cell_type": "code",
   "execution_count": null,
   "id": "3f25f1f9",
   "metadata": {},
   "outputs": [],
   "source": [
    "for i in range(1,85):\n",
    "    if i == 1:\n",
    "        #Crear el dataframe\n",
    "        Datos_2000_2013 = arreglo(datos_2000_2013, datos_2000_2013.columns[20 + i])\n",
    "    elif i % 3 != 0:\n",
    "        #Concatenar el dataframe con anterior\n",
    "        Nuevo = arreglo(datos_2000_2013, datos_2000_2013.columns[20 + i])\n",
    "        Datos_2000_2013 = pd.concat([Datos_2000_2013, Nuevo], axis = 0, ignore_index = True, join = \"inner\")\n",
    "    else:\n",
    "        pass"
   ]
  },
  {
   "cell_type": "code",
   "execution_count": null,
   "id": "dad5208b",
   "metadata": {},
   "outputs": [],
   "source": [
    "Datos_2000_2013.columns = ['Código de la Institución', 'IES PADRE',\n",
    "       'Institución de Educación Superior (IES)', 'Principal o Seccional',\n",
    "       'Sector IES', 'Caracter IES', 'Código del departamento (IES)',\n",
    "       'Departamento de domicilio de la IES',\n",
    "       'Código del Municipio (IES)', 'Municipio de domicilio de la IES',\n",
    "       'Código SNIES del programa', 'Programa Académico',\n",
    "       'Nivel de Formación', 'Nivel Académico', 'Metodología',\n",
    "       'Área de Conocimiento', 'Núcleo Básico del Conocimiento (NBC)',\n",
    "       'Código del Departamento (Programa)',\n",
    "       'Departamento de oferta del programa',\n",
    "       'Código del Municipio (Programa)',\n",
    "       'Municipio de oferta del programa', 'Sexo', 'Año', 'Semestre',\n",
    "       'Inscritos', 'ID Metodología', 'ID ÁREA']"
   ]
  },
  {
   "cell_type": "code",
   "execution_count": null,
   "id": "67fde546",
   "metadata": {},
   "outputs": [],
   "source": [
    "Datos_2000_2013[\"Principal o Seccional\"] = Datos_2000_2013[\"Principal o Seccional\"].str.capitalize()\n",
    "Datos_2000_2013[\"Sector IES\"] = Datos_2000_2013[\"Sector IES\"].str.capitalize()\n",
    "Datos_2000_2013[\"Departamento de domicilio de la IES\"] = Datos_2000_2013[\"Departamento de domicilio de la IES\"].str.title()\n",
    "Datos_2000_2013[\"Municipio de domicilio de la IES\"] = Datos_2000_2013[\"Municipio de domicilio de la IES\"].str.title()\n",
    "Datos_2000_2013[\"Programa Académico\"] = Datos_2000_2013[\"Programa Académico\"].str.title()\n",
    "Datos_2000_2013[\"Nivel de Formación\"] = Datos_2000_2013[\"Nivel de Formación\"].str.title()\n",
    "Datos_2000_2013[\"Nivel Académico\"] = Datos_2000_2013[\"Nivel Académico\"].str.title()\n",
    "Datos_2000_2013[\"Metodología\"] = Datos_2000_2013[\"Metodología\"].str.title()\n",
    "Datos_2000_2013[\"Área de Conocimiento\"] = Datos_2000_2013[\"Área de Conocimiento\"].str.title()\n",
    "Datos_2000_2013[\"Núcleo Básico del Conocimiento (NBC)\"] = Datos_2000_2013[\"Núcleo Básico del Conocimiento (NBC)\"].str.title()\n",
    "Datos_2000_2013[\"Departamento de oferta del programa\"] = Datos_2000_2013[\"Departamento de oferta del programa\"].str.title()\n",
    "Datos_2000_2013[\"Municipio de oferta del programa\"] = Datos_2000_2013[\"Municipio de oferta del programa\"].str.title()\n",
    "Datos_2000_2013[\"Caracter IES\"] = Datos_2000_2013[\"Caracter IES\"].str.title()"
   ]
  },
  {
   "cell_type": "code",
   "execution_count": null,
   "id": "93c125a8",
   "metadata": {},
   "outputs": [],
   "source": [
    "for i in range(0, len(Datos_2000_2013)):\n",
    "    if Datos_2000_2013[\"Departamento de domicilio de la IES\"][i] == \"Bogota D.C.\":\n",
    "        Datos_2000_2013[\"Departamento de domicilio de la IES\"][i] = \"Bogotá D.C.\"\n",
    "    elif Datos_2000_2013[\"Departamento de domicilio de la IES\"][i] == \"Atlantico\":\n",
    "        Datos_2000_2013[\"Departamento de domicilio de la IES\"][i] = \"Atlántico\"\n",
    "    elif Datos_2000_2013[\"Departamento de domicilio de la IES\"][i] == \"Bolivar\":\n",
    "        Datos_2000_2013[\"Departamento de domicilio de la IES\"][i] = \"Bolívar\"\n",
    "    elif Datos_2000_2013[\"Departamento de domicilio de la IES\"][i] == \"Boyaca\":\n",
    "        Datos_2000_2013[\"Departamento de domicilio de la IES\"][i] = \"Boyacá\"\n",
    "    elif Datos_2000_2013[\"Departamento de domicilio de la IES\"][i] == \"Cordoba\":\n",
    "        Datos_2000_2013[\"Departamento de domicilio de la IES\"][i] = \"Córdoba\"\n",
    "    elif Datos_2000_2013[\"Departamento de domicilio de la IES\"][i] == \"Quindio\":\n",
    "        Datos_2000_2013[\"Departamento de domicilio de la IES\"][i] = \"Quindío\"\n",
    "    elif Datos_2000_2013[\"Departamento de domicilio de la IES\"][i] == \"Choco\":\n",
    "        Datos_2000_2013[\"Departamento de domicilio de la IES\"][i] = \"Chocó\"\n",
    "    elif Datos_2000_2013[\"Departamento de domicilio de la IES\"][i] == \"Caqueta\":\n",
    "        Datos_2000_2013[\"Departamento de domicilio de la IES\"][i] = \"Caquetá\"\n",
    "    elif Datos_2000_2013[\"Departamento de domicilio de la IES\"][i] == \"San Andres Y Providencia\":\n",
    "        Datos_2000_2013[\"Departamento de domicilio de la IES\"][i] = \"Archipiélago De San Andrés, Providencia Y Santa Catalina\"\n",
    "    else:\n",
    "        pass"
   ]
  },
  {
   "cell_type": "code",
   "execution_count": null,
   "id": "cf19a59a",
   "metadata": {},
   "outputs": [],
   "source": [
    "for i in range(0, len(Datos_2000_2013)):\n",
    "    if Datos_2000_2013[\"Nivel de Formación\"][i] == \"Especializacion\":\n",
    "        Datos_2000_2013[\"Nivel de Formación\"][i] = \"Especialización\"\n",
    "    elif Datos_2000_2013[\"Nivel de Formación\"][i] == \"Tecnica Profesional\":\n",
    "        Datos_2000_2013[\"Nivel de Formación\"][i] = \"Formación Técnica Profesional\"\n",
    "    elif Datos_2000_2013[\"Nivel de Formación\"][i] == \"Maestria\":\n",
    "        Datos_2000_2013[\"Nivel de Formación\"][i] = \"Maestría\"\n",
    "    elif Datos_2000_2013[\"Nivel de Formación\"][i] == \"Tecnologica\":\n",
    "        Datos_2000_2013[\"Nivel de Formación\"][i] = \"Tecnológica\"\n",
    "    else:\n",
    "        pass"
   ]
  },
  {
   "cell_type": "code",
   "execution_count": null,
   "id": "2b3e68fb",
   "metadata": {},
   "outputs": [],
   "source": [
    "Datos_2000_2013[\"ID Metodología\"] = 0\n",
    "for i in range(0, len(Datos_2000_2013)):\n",
    "    if Datos_2000_2013[\"Metodología\"][i] == \"A Distancia (Virtual)\":\n",
    "        Datos_2000_2013[\"Metodología\"][i] = \"A Distancia (Virtual)\"\n",
    "        Datos_2000_2013[\"ID Metodología\"][i] = 3\n",
    "    elif Datos_2000_2013[\"Metodología\"][i] == \"A Distancia (Tradicional)\":\n",
    "        Datos_2000_2013[\"Metodología\"][i] = \"A Distancia (Tradicional)\"\n",
    "        Datos_2000_2013[\"ID Metodología\"][i] = 2\n",
    "    elif Datos_2000_2013[\"Metodología\"][i] == \"Presencial\":\n",
    "        Datos_2000_2013[\"Metodología\"][i] = \"Presencial\"\n",
    "        Datos_2000_2013[\"ID Metodología\"][i] = 1\n",
    "    elif Datos_2000_2013[\"Metodología\"][i] == \"Sin Metodologia Definida\":\n",
    "        Datos_2000_2013[\"Metodología\"][i] = \"Sin Metodologia Definida\"\n",
    "        Datos_2000_2013[\"ID Metodología\"][i] = 0\n",
    "    else:\n",
    "        pass"
   ]
  },
  {
   "cell_type": "code",
   "execution_count": null,
   "id": "28746165",
   "metadata": {},
   "outputs": [],
   "source": [
    "Datos_2000_2013[\"ID ÁREA\"] = 0\n",
    "for i in range(0, len(Datos_2000_2013)):\n",
    "    if Datos_2000_2013[\"Área de Conocimiento\"][i] == \"Agronomia, Veterinaria Y Afines\":\n",
    "        Datos_2000_2013[\"Área de Conocimiento\"][i] = \"Agronomía, Veterinaria Y Afines\"\n",
    "        Datos_2000_2013[\"ID ÁREA\"][i] = 1\n",
    "    elif Datos_2000_2013[\"Área de Conocimiento\"][i] == \"Ciencias De La Educacion\":\n",
    "        Datos_2000_2013[\"Área de Conocimiento\"][i] = \"Ciencias De La Educación\"\n",
    "        Datos_2000_2013[\"ID ÁREA\"][i] = 3\n",
    "    elif Datos_2000_2013[\"Área de Conocimiento\"][i] == \"Economia, Administracion, Contaduria Y Afines\":\n",
    "        Datos_2000_2013[\"Área de Conocimiento\"][i] = \"Economía, Administración, Contaduría Y Afines\"\n",
    "        Datos_2000_2013[\"ID ÁREA\"][i] = 6\n",
    "    elif Datos_2000_2013[\"Área de Conocimiento\"][i] == \"Matematicas Y Ciencias Naturales\":\n",
    "        Datos_2000_2013[\"Área de Conocimiento\"][i] = \"Matemáticas Y Ciencias Naturales\"\n",
    "        Datos_2000_2013[\"ID ÁREA\"][i] = 9\n",
    "    elif Datos_2000_2013[\"Área de Conocimiento\"][i] == \"Ingenieria, Arquitectura, Urbanismo Y Afines\":\n",
    "        Datos_2000_2013[\"Área de Conocimiento\"][i] = \"Ingeniería, Arquitectura, Urbanismo Y Afines\"\n",
    "        Datos_2000_2013[\"ID ÁREA\"][i] = 8\n",
    "    elif Datos_2000_2013[\"Área de Conocimiento\"][i] == \"Ciencias Sociales Y Humanas\":\n",
    "        Datos_2000_2013[\"Área de Conocimiento\"][i] = \"Ciencias Sociales Y Humanas\"\n",
    "        Datos_2000_2013[\"ID ÁREA\"][i] = 5\n",
    "    elif Datos_2000_2013[\"Área de Conocimiento\"][i] == \"Ciencias De La Salud\":\n",
    "        Datos_2000_2013[\"Área de Conocimiento\"][i] = \"Ciencias De La Salud\"\n",
    "        Datos_2000_2013[\"ID ÁREA\"][i] = 4\n",
    "    elif Datos_2000_2013[\"Área de Conocimiento\"][i] == \"Bellas Artes\":\n",
    "        Datos_2000_2013[\"Área de Conocimiento\"][i] = \"Bellas Artes\"\n",
    "        Datos_2000_2013[\"ID ÁREA\"][i] = 2\n",
    "    elif Datos_2000_2013[\"Área de Conocimiento\"][i] == \"Sin Programa Especifico\":\n",
    "        Datos_2000_2013[\"Área de Conocimiento\"][i] = \"Sin Programa Específico\"\n",
    "        Datos_2000_2013[\"ID ÁREA\"][i] = \"Sin Programa Específico\"\n",
    "    else:\n",
    "        pass"
   ]
  },
  {
   "cell_type": "code",
   "execution_count": null,
   "id": "56eb96fe",
   "metadata": {},
   "outputs": [],
   "source": [
    "for i in range(0, len(Datos_2000_2013)):\n",
    "    if Datos_2000_2013[\"Departamento de oferta del programa\"][i] == \"Bogota D.C.\":\n",
    "        Datos_2000_2013[\"Departamento de oferta del programa\"][i] = \"Bogotá D.C.\"\n",
    "    elif Datos_2000_2013[\"Departamento de oferta del programa\"][i] == \"Atlantico\":\n",
    "        Datos_2000_2013[\"Departamento de oferta del programa\"][i] = \"Atlántico\"\n",
    "    elif Datos_2000_2013[\"Departamento de oferta del programa\"][i] == \"Quindio\":\n",
    "        Datos_2000_2013[\"Departamento de oferta del programa\"][i] = \"Quindío\"\n",
    "    elif Datos_2000_2013[\"Departamento de oferta del programa\"][i] == \"Bolivar\":\n",
    "        Datos_2000_2013[\"Departamento de oferta del programa\"][i] = \"Bolívar\"\n",
    "    elif Datos_2000_2013[\"Departamento de oferta del programa\"][i] == \"Boyaca\":\n",
    "        Datos_2000_2013[\"Departamento de oferta del programa\"][i] = \"Boyacá\"\n",
    "    elif Datos_2000_2013[\"Departamento de oferta del programa\"][i] == \"Quindio\":\n",
    "        Datos_2000_2013[\"Departamento de oferta del programa\"][i] = \"Quindío\"\n",
    "    elif Datos_2000_2013[\"Departamento de oferta del programa\"][i] == \"Cordoba\":\n",
    "        Datos_2000_2013[\"Departamento de oferta del programa\"][i] = \"Córdoba\"\n",
    "    elif Datos_2000_2013[\"Departamento de oferta del programa\"][i] == \"Choco\":\n",
    "        Datos_2000_2013[\"Departamento de oferta del programa\"][i] = \"Chocó\"\n",
    "    elif Datos_2000_2013[\"Departamento de oferta del programa\"][i] == \"Caqueta\":\n",
    "        Datos_2000_2013[\"Departamento de oferta del programa\"][i] = \"Caquetá\"\n",
    "    elif Datos_2000_2013[\"Departamento de oferta del programa\"][i] == \"Guainia\":\n",
    "        Datos_2000_2013[\"Departamento de oferta del programa\"][i] = \"Guainía\"\n",
    "    elif Datos_2000_2013[\"Departamento de oferta del programa\"][i] == \"Vaupes\":\n",
    "        Datos_2000_2013[\"Departamento de oferta del programa\"][i] = \"Vaupés\"\n",
    "    elif Datos_2000_2013[\"Departamento de oferta del programa\"][i] == \"San Andres Y Providencia\":\n",
    "        Datos_2000_2013[\"Departamento de oferta del programa\"][i] = \"Archipiélago De San Andrés, Providencia Y Santa Catalina\"\n",
    "    elif Datos_2000_2013[\"Departamento de oferta del programa\"][i] == \"No Identificado\":\n",
    "        Datos_2000_2013[\"Departamento de oferta del programa\"][i] = \"No Identificado\"\n",
    "    else:\n",
    "        pass"
   ]
  },
  {
   "cell_type": "code",
   "execution_count": null,
   "id": "9e4a9fdf",
   "metadata": {},
   "outputs": [],
   "source": [
    "print(set(Datos_2000_2013.columns.str.upper().tolist()).difference(set(datos_2014_2021.columns.str.upper().tolist())))\n",
    "print(set(datos_2014_2021.columns.str.upper().tolist()).difference(set(Datos_2000_2013.columns.str.upper().tolist())))"
   ]
  },
  {
   "cell_type": "code",
   "execution_count": null,
   "id": "dd178944",
   "metadata": {},
   "outputs": [],
   "source": [
    "Datos_2000_2013[\"DESC CINE CAMPO AMPLIO\"] = \"NO APLICA\"\n",
    "Datos_2000_2013[\"DESC CINE CAMPO ESPECIFICO\"] = \"NO APLICA\"\n",
    "Datos_2000_2013[\"DESC CINE CODIGO DETALLADO\"] = \"NO APLICA\"\n",
    "Datos_2000_2013[\"ID CINE CAMPO AMPLIO\"] = 0\n",
    "Datos_2000_2013[\"ID CINE CAMPO ESPECIFICO\"] = 0\n",
    "Datos_2000_2013[\"ID CINE CODIGO DETALLADO\"] = 0"
   ]
  },
  {
   "cell_type": "code",
   "execution_count": null,
   "id": "188d495d",
   "metadata": {},
   "outputs": [],
   "source": [
    "sex_id = datos_2014_2021.groupby([\"ID SEXO\", \"SEXO\"]).size().reset_index()[[\"ID SEXO\", \"SEXO\"]]"
   ]
  },
  {
   "cell_type": "code",
   "execution_count": null,
   "id": "6f1b57f2",
   "metadata": {},
   "outputs": [],
   "source": [
    "Datos_2000_2013[\"ID SEXO\"] = 0\n",
    "for i in range(0, len(Datos_2000_2013)):\n",
    "    Datos_2000_2013[\"ID SEXO\"][i] = sex_id[\"ID SEXO\"][sex_id[sex_id[\"SEXO\"] == Datos_2000_2013[\"Sexo\"][i]].index[sex_id[\"ID SEXO\"][0] - 1]]"
   ]
  },
  {
   "cell_type": "code",
   "execution_count": null,
   "id": "51b8ac1d",
   "metadata": {},
   "outputs": [],
   "source": [
    "Datos_2000_2013[\"Sexo\"].value_counts()"
   ]
  },
  {
   "cell_type": "code",
   "execution_count": null,
   "id": "42f2eb17",
   "metadata": {},
   "outputs": [],
   "source": [
    "car_id = datos_2014_2021.groupby([\"ID CARACTER\", \"CARACTER IES\"]).size().reset_index()[[\"ID CARACTER\", \"CARACTER IES\"]]"
   ]
  },
  {
   "cell_type": "code",
   "execution_count": null,
   "id": "9c38bb8a",
   "metadata": {},
   "outputs": [],
   "source": [
    "for i in range(0, len(Datos_2000_2013)):\n",
    "    if Datos_2000_2013[\"Caracter IES\"][i] == \"Institucion Universitaria/Escuela Tecnologica\":\n",
    "        Datos_2000_2013[\"Caracter IES\"][i] = \"Institución Universitaria / Escuela Tecnológica\"\n",
    "    elif Datos_2000_2013[\"Caracter IES\"][i] == \"Institucion Tecnologica\":\n",
    "        Datos_2000_2013[\"Caracter IES\"][i] = \"Institución Tecnológica\"\n",
    "    elif Datos_2000_2013[\"Caracter IES\"][i] == \"Institucion Tecnica Profesional\":\n",
    "        Datos_2000_2013[\"Caracter IES\"][i] = \"Institución Técnica Profesional\"\n",
    "    elif Datos_2000_2013[\"Caracter IES\"][i] == \"Institución Universitaria/Escuela Tecnológica\":\n",
    "        Datos_2000_2013[\"Caracter IES\"][i] = \"Institución Universitaria / Escuela Tecnológica\"\n",
    "    else:\n",
    "        pass"
   ]
  },
  {
   "cell_type": "code",
   "execution_count": null,
   "id": "67ca98bd",
   "metadata": {},
   "outputs": [],
   "source": [
    "Datos_2000_2013[\"Caracter IES\"].value_counts()"
   ]
  },
  {
   "cell_type": "code",
   "execution_count": null,
   "id": "1f6dc9ef",
   "metadata": {},
   "outputs": [],
   "source": [
    "Datos_2000_2013[\"ID CARACTER\"] = 0\n",
    "for i in range(0, len(Datos_2000_2013)):\n",
    "    Datos_2000_2013[\"ID CARACTER\"][i] = car_id[\"ID CARACTER\"][car_id[car_id[\"CARACTER IES\"] == Datos_2000_2013[\"Caracter IES\"][i]].index[car_id[\"ID CARACTER\"][0] - 1]]"
   ]
  },
  {
   "cell_type": "code",
   "execution_count": null,
   "id": "8d02658a",
   "metadata": {},
   "outputs": [],
   "source": [
    "na_id = datos_2014_2021.groupby(['ID NIVEL ACADÉMICO', 'NIVEL ACADÉMICO']).size().reset_index()[['ID NIVEL ACADÉMICO', 'NIVEL ACADÉMICO']]"
   ]
  },
  {
   "cell_type": "code",
   "execution_count": null,
   "id": "558c308d",
   "metadata": {},
   "outputs": [],
   "source": [
    "Datos_2000_2013[\"ID NIVEL ACADÉMICO\"] = 0\n",
    "for i in range(0, len(Datos_2000_2013)):\n",
    "    Datos_2000_2013[\"ID NIVEL ACADÉMICO\"][i] = na_id[\"ID NIVEL ACADÉMICO\"][na_id[na_id[\"NIVEL ACADÉMICO\"] == Datos_2000_2013[\"Nivel Académico\"][i]].index[na_id[\"ID NIVEL ACADÉMICO\"][0] - 1]]"
   ]
  },
  {
   "cell_type": "code",
   "execution_count": null,
   "id": "1c0ec6b6",
   "metadata": {},
   "outputs": [],
   "source": [
    "Datos_2000_2013[\"ID NIVEL ACADÉMICO\"].value_counts()"
   ]
  },
  {
   "cell_type": "code",
   "execution_count": null,
   "id": "71137d60",
   "metadata": {},
   "outputs": [],
   "source": [
    "nf_id = datos_2014_2021.groupby(['ID NIVEL DE FORMACIÓN', 'NIVEL DE FORMACIÓN']).size().reset_index()[['ID NIVEL DE FORMACIÓN', 'NIVEL DE FORMACIÓN']]"
   ]
  },
  {
   "cell_type": "code",
   "execution_count": null,
   "id": "feba200e",
   "metadata": {},
   "outputs": [],
   "source": [
    "Datos_2000_2013[\"ID NIVEL DE FORMACIÓN\"] = 0\n",
    "for i in range(0, len(Datos_2000_2013)):\n",
    "    Datos_2000_2013[\"ID NIVEL DE FORMACIÓN\"][i] = nf_id[\"ID NIVEL DE FORMACIÓN\"][nf_id[nf_id[\"NIVEL DE FORMACIÓN\"] == Datos_2000_2013[\"Nivel de Formación\"][i]].index[nf_id[\"ID NIVEL DE FORMACIÓN\"][0] - 1]]"
   ]
  },
  {
   "cell_type": "code",
   "execution_count": null,
   "id": "0fca3625",
   "metadata": {},
   "outputs": [],
   "source": [
    "Datos_2000_2013[\"ID NIVEL DE FORMACIÓN\"].value_counts()"
   ]
  },
  {
   "cell_type": "code",
   "execution_count": null,
   "id": "42c96a3c",
   "metadata": {},
   "outputs": [],
   "source": [
    "si_id = datos_2014_2021.groupby(['ID SECTOR IES', 'SECTOR IES']).size().reset_index()[['ID SECTOR IES', 'SECTOR IES']]"
   ]
  },
  {
   "cell_type": "code",
   "execution_count": null,
   "id": "1ffca533",
   "metadata": {},
   "outputs": [],
   "source": [
    "Datos_2000_2013[\"ID SECTOR IES\"] = 0\n",
    "for i in range(0, len(Datos_2000_2013)):\n",
    "    Datos_2000_2013[\"ID SECTOR IES\"][i] = si_id[\"ID SECTOR IES\"][si_id[si_id[\"SECTOR IES\"] == Datos_2000_2013[\"Sector IES\"][i]].index[si_id[\"ID SECTOR IES\"][0] - 1]]"
   ]
  },
  {
   "cell_type": "code",
   "execution_count": null,
   "id": "2965a89a",
   "metadata": {},
   "outputs": [],
   "source": [
    "Datos_2000_2013['ID SECTOR IES'].value_counts()"
   ]
  },
  {
   "cell_type": "code",
   "execution_count": null,
   "id": "528c5ed5",
   "metadata": {},
   "outputs": [],
   "source": [
    "nuc_id = datos_2014_2021.groupby([\"ID NÚCLEO\", \"NÚCLEO BÁSICO DEL CONOCIMIENTO (NBC)\"]).size().reset_index()[[\"ID NÚCLEO\", \"NÚCLEO BÁSICO DEL CONOCIMIENTO (NBC)\"]]"
   ]
  },
  {
   "cell_type": "code",
   "execution_count": null,
   "id": "a85338d7",
   "metadata": {},
   "outputs": [],
   "source": [
    "Datos_2000_2013[\"ID NÚCLEO\"] = 0"
   ]
  },
  {
   "cell_type": "code",
   "execution_count": null,
   "id": "039e1af9",
   "metadata": {},
   "outputs": [],
   "source": [
    "datos_2014_2021[\"NBC\"] = \" \"\n",
    "for i in range(0, len(datos_2014_2021)):\n",
    "    #print(i)\n",
    "    if type(datos_2014_2021[\"NÚCLEO BÁSICO DEL CONOCIMIENTO (NBC)\"][i]) == str:\n",
    "        datos_2014_2021[\"NBC\"][i] = quitar_acentos(datos_2014_2021[\"NÚCLEO BÁSICO DEL CONOCIMIENTO (NBC)\"][i], 0)\n",
    "    elif math.isnan(datos_2014_2021[\"NÚCLEO BÁSICO DEL CONOCIMIENTO (NBC)\"][i]):\n",
    "        pass\n",
    "    else:\n",
    "        pass\n",
    "datos_2014_2021[\"NBC\"]"
   ]
  },
  {
   "cell_type": "code",
   "execution_count": null,
   "id": "e9a7ae15",
   "metadata": {},
   "outputs": [],
   "source": [
    "datos_2014_2021 = datos_2014_2021.reset_index()\n",
    "for i in range(0, len(Datos_2000_2013)):\n",
    "    print(i)\n",
    "    if any(datos_2014_2021[\"NBC\"].isin([Datos_2000_2013[\"Núcleo Básico del Conocimiento (NBC)\"][i]])):\n",
    "        Datos_2000_2013[\"Núcleo Básico del Conocimiento (NBC)\"][i] = datos_2014_2021[\"NÚCLEO BÁSICO DEL CONOCIMIENTO (NBC)\"][datos_2014_2021[\"NBC\"].tolist().index(Datos_2000_2013[\"Núcleo Básico del Conocimiento (NBC)\"][i])]\n",
    "    else:\n",
    "        pass"
   ]
  },
  {
   "cell_type": "code",
   "execution_count": null,
   "id": "01c5128c",
   "metadata": {},
   "outputs": [],
   "source": [
    "Datos_2000_2013.columns = ['Unnamed: 0', 'CÓDIGO DE LA INSTITUCIÓN', 'IES PADRE',\n",
    " 'INSTITUCIÓN DE EDUCACIÓN SUPERIOR (IES)', 'PRINCIPAL O SECCIONAL', 'SECTOR IES',\n",
    " 'CARACTER IES', 'CÓDIGO DEL DEPARTAMENTO (IES)', 'DEPARTAMENTO DE DOMICILIO DE LA IES',\n",
    " 'CÓDIGO DEL MUNICIPIO (IES)', 'MUNICIPIO DE DOMICILIO DE LA IES', 'CÓDIGO SNIES DEL PROGRAMA',\n",
    " 'PROGRAMA ACADÉMICO', 'NIVEL DE FORMACIÓN', 'NIVEL ACADÉMICO', 'METODOLOGÍA',\n",
    " 'ÁREA DE CONOCIMIENTO', 'NÚCLEO BÁSICO DEL CONOCIMIENTO (NBC)', 'CÓDIGO DEL DEPARTAMENTO (PROGRAMA)',\n",
    " 'DEPARTAMENTO DE OFERTA DEL PROGRAMA', 'CÓDIGO DEL MUNICIPIO (PROGRAMA)',\n",
    " 'MUNICIPIO DE OFERTA DEL PROGRAMA', 'SEXO', 'AÑO', 'SEMESTRE', 'INSCRITOS',\n",
    " 'ID METODOLOGÍA', 'ID ÁREA', 'DESC CINE CAMPO AMPLIO', 'DESC CINE CAMPO ESPECIFICO',\n",
    " 'DESC CINE CODIGO DETALLADO', 'ID CINE CAMPO AMPLIO', 'ID CINE CAMPO ESPECIFICO',\n",
    " 'ID CINE CODIGO DETALLADO', 'ID SEXO', 'ID CARACTER', 'ID NIVEL ACADÉMICO', 'ID NIVEL DE FORMACIÓN',\n",
    " 'ID SECTOR IES', 'ID NÚCLEO']"
   ]
  },
  {
   "cell_type": "code",
   "execution_count": null,
   "id": "ab453078",
   "metadata": {},
   "outputs": [],
   "source": [
    "datos_2000_2021 = pd.concat([Datos_2000_2013, datos_2014_2021], axis = 0, ignore_index = True, join = \"inner\")"
   ]
  },
  {
   "cell_type": "code",
   "execution_count": null,
   "id": "888bdace",
   "metadata": {},
   "outputs": [],
   "source": [
    "datos_2000_2021 = datos_2000_2021[['CÓDIGO DE LA INSTITUCIÓN', 'IES PADRE',\n",
    "       'INSTITUCIÓN DE EDUCACIÓN SUPERIOR (IES)', 'PRINCIPAL O SECCIONAL',\n",
    "       'SECTOR IES', 'CARACTER IES', 'CÓDIGO DEL DEPARTAMENTO (IES)',\n",
    "       'DEPARTAMENTO DE DOMICILIO DE LA IES', 'CÓDIGO DEL MUNICIPIO (IES)',\n",
    "       'MUNICIPIO DE DOMICILIO DE LA IES', \n",
    "       'PROGRAMA ACADÉMICO', 'NIVEL DE FORMACIÓN', 'NIVEL ACADÉMICO',\n",
    "       'METODOLOGÍA', 'ÁREA DE CONOCIMIENTO',\n",
    "       'NÚCLEO BÁSICO DEL CONOCIMIENTO (NBC)',\n",
    "       'CÓDIGO DEL DEPARTAMENTO (PROGRAMA)',\n",
    "       'DEPARTAMENTO DE OFERTA DEL PROGRAMA',\n",
    "       'CÓDIGO DEL MUNICIPIO (PROGRAMA)', 'MUNICIPIO DE OFERTA DEL PROGRAMA',\n",
    "       'SEXO', 'AÑO', 'SEMESTRE', 'INSCRITOS', 'ID METODOLOGÍA', 'ID ÁREA', 'ID SEXO',\n",
    "       'ID CARACTER', 'ID NIVEL ACADÉMICO', 'ID NIVEL DE FORMACIÓN',\n",
    "       'ID SECTOR IES', 'ID NÚCLEO']]"
   ]
  },
  {
   "cell_type": "code",
   "execution_count": null,
   "id": "b11f3a9c",
   "metadata": {},
   "outputs": [],
   "source": [
    "datos_2000_2021.drop_duplicates(keep=False, inplace=True)\n",
    "datos_2000_2021.dropna(inplace = True)"
   ]
  },
  {
   "cell_type": "code",
   "execution_count": null,
   "id": "f8153335",
   "metadata": {},
   "outputs": [],
   "source": [
    "SUE_ = [\"Universidad de la Amazonia\", \"Universidad de Antioquia\", \"Universidad del Atlántico\", \"Universidad de Caldas\",\n",
    "\"Universidad de Cartagena\", \"Universidad del Cauca\", \"Universidad-Colegio Mayor de Cundinamarca\",\n",
    "\"Universidad de Córdoba\", \"Universidad de Cundinamarca-UDEC\", \"Universidad Distrital-Francisco José de Caldas\",\n",
    "\"Universidad Francisco de Paula Santander\", \"Universidad Industrial de Santander\", \"Universidad de La Guajira\",\n",
    "\"Universidad de los Llanos\", \"Universidad del Magdalena - UNIMAGDALENA\", \"Universidad Militar-Nueva Granada\",\n",
    "\"Universidad Nacional Abierta y a Distancia UNAD\", \"Universidad de Nariño\", \"Universidad del Pacífico\", \n",
    "\"Universidad de Pamplona\", \"Universidad Pedagógica Nacional\", \"Universidad Pedagógica y Tecnológica de Colombia - UPTC\", \n",
    "\"Universidad Popular del Cesar\", \"Universidad del Quindío\", \"Universidad de Sucre\", \"Universidad Surcolombiana\", \n",
    "\"Universidad Tecnológica del Chocó-DIEGO LUIS CORDOBA\", \"Universidad Tecnológica de Pereira - UTP\", \"Universidad del Tolima\", \n",
    "\"Universidad del Valle\", \"Universidad Autónoma Indígena Intercultural - UAIIN\"]\n",
    "\n",
    "SUE = []\n",
    "for i in range(0, len(SUE_)):\n",
    "    SUE.append(quitar_acentos(SUE_[i], 0).upper())"
   ]
  },
  {
   "cell_type": "code",
   "execution_count": null,
   "id": "df92dcc6",
   "metadata": {},
   "outputs": [],
   "source": [
    "datos_2000_2021 = datos_2000_2021.reset_index()\n",
    "datos_2000_2021[\"SUE\"] = 0\n",
    "for i in range(0, len(datos_2000_2021)):\n",
    "    if len(set(SUE).intersection([datos_2000_2021[\"INSTITUCIÓN DE EDUCACIÓN SUPERIOR (IES)\"][i]])) != 0:\n",
    "        datos_2000_2021[\"SUE\"][i] = 1\n",
    "    elif datos_2000_2021[\"INSTITUCIÓN DE EDUCACIÓN SUPERIOR (IES)\"][i] == \"UNIVERSIDAD NACIONAL DE COLOMBIA\":\n",
    "        datos_2000_2021[\"SUE\"][i] = 2\n",
    "    else:\n",
    "        datos_2000_2021[\"SUE\"][i] = 0"
   ]
  },
  {
   "cell_type": "code",
   "execution_count": null,
   "id": "cd8ba86a",
   "metadata": {},
   "outputs": [],
   "source": [
    "datos_2000_2021.to_excel(\"Datos_2000_2021-Bien.xlsx\")"
   ]
  },
  {
   "cell_type": "code",
   "execution_count": null,
   "id": "4982d5b6",
   "metadata": {},
   "outputs": [],
   "source": []
  },
  {
   "cell_type": "code",
   "execution_count": null,
   "id": "28616fbe",
   "metadata": {},
   "outputs": [],
   "source": []
  },
  {
   "cell_type": "code",
   "execution_count": null,
   "id": "599afc64",
   "metadata": {},
   "outputs": [],
   "source": []
  },
  {
   "cell_type": "code",
   "execution_count": null,
   "id": "7be075c2",
   "metadata": {},
   "outputs": [],
   "source": []
  },
  {
   "cell_type": "code",
   "execution_count": null,
   "id": "de43c55f",
   "metadata": {},
   "outputs": [],
   "source": []
  },
  {
   "cell_type": "code",
   "execution_count": null,
   "id": "e6e5875f",
   "metadata": {},
   "outputs": [],
   "source": []
  },
  {
   "cell_type": "code",
   "execution_count": null,
   "id": "6b88f523",
   "metadata": {},
   "outputs": [],
   "source": []
  }
 ],
 "metadata": {
  "kernelspec": {
   "display_name": "Python 3 (ipykernel)",
   "language": "python",
   "name": "python3"
  },
  "language_info": {
   "codemirror_mode": {
    "name": "ipython",
    "version": 3
   },
   "file_extension": ".py",
   "mimetype": "text/x-python",
   "name": "python",
   "nbconvert_exporter": "python",
   "pygments_lexer": "ipython3",
   "version": "3.9.7"
  }
 },
 "nbformat": 4,
 "nbformat_minor": 5
}
